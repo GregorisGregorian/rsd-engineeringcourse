{
 "cells": [
  {
   "cell_type": "markdown",
   "metadata": {},
   "source": [
    "### Solution"
   ]
  },
  {
   "cell_type": "markdown",
   "metadata": {},
   "source": [
    "With this maze structure:"
   ]
  },
  {
   "cell_type": "code",
   "execution_count": null,
   "metadata": {},
   "outputs": [],
   "source": [
    "house = {\n",
    "    'living' : {\n",
    "        'exits': {\n",
    "            'north' : 'kitchen',\n",
    "            'outside' : 'garden',\n",
    "            'upstairs' : 'bedroom'\n",
    "        },\n",
    "        'people' : ['Graham'],\n",
    "        'capacity' : 2\n",
    "    },\n",
    "    'kitchen' : {\n",
    "        'exits': {\n",
    "            'south' : 'living'\n",
    "        },\n",
    "        'people' : [],\n",
    "        'capacity' : 1\n",
    "    },\n",
    "    'garden' : {\n",
    "        'exits': {\n",
    "            'inside' : 'living'\n",
    "        },\n",
    "        'people' : ['David'],\n",
    "        'capacity' : 3\n",
    "    },\n",
    "    'bedroom' : {\n",
    "        'exits': {\n",
    "            'downstairs' : 'living',\n",
    "            'jump' : 'garden'\n",
    "        },\n",
    "        'people' : [],\n",
    "        'capacity' : 1\n",
    "    }\n",
    "}"
   ]
  },
  {
   "cell_type": "markdown",
   "metadata": {},
   "source": [
    "We can get a simpler dictionary with just capacities like this:"
   ]
  },
  {
   "cell_type": "code",
   "execution_count": null,
   "metadata": {},
   "outputs": [],
   "source": [
    "{name: room['capacity'] for name, room in house.items()}"
   ]
  },
  {
   "cell_type": "markdown",
   "metadata": {},
   "source": [
    "To get the current number of occupants, we can use a similar dictionary comprehension. Remember that we can *filter* (only keep certain rooms) by adding an `if` clause:"
   ]
  },
  {
   "cell_type": "code",
   "execution_count": null,
   "metadata": {},
   "outputs": [],
   "source": [
    "{name: len(room['people']) for name, room in house.items() if len(room['people']) > 0}"
   ]
  }
 ],
 "metadata": {
  "jekyll": {
   "display_name": "Maze comprehension solution"
  },
  "language_info": {
   "codemirror_mode": {
    "name": "ipython",
    "version": 3
   },
   "file_extension": ".py",
   "mimetype": "text/x-python",
   "name": "python",
   "nbconvert_exporter": "python",
   "pygments_lexer": "ipython3",
   "version": "3.7.3"
  }
 },
 "nbformat": 4,
 "nbformat_minor": 1
}
