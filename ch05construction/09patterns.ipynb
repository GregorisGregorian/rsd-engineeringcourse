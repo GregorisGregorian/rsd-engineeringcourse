{
 "cells": [
  {
   "cell_type": "markdown",
   "source": [
    "## Patterns"
   ],
   "metadata": {
    "collapsed": false
   }
  },
  {
   "cell_type": "markdown",
   "source": [
    "### Class Complexity"
   ],
   "metadata": {
    "collapsed": false
   }
  },
  {
   "cell_type": "markdown",
   "source": [
    "\n",
    "We've seen that using object orientation can produce quite complex class structures, with classes owning each other, instantiating each other,\n",
    "and inheriting from each other.\n",
    "\n",
    "There are lots of different ways to design things, and decisions to make.\n",
    "\n",
    "> - To reuse functionality: should I use inheritance, or add class variable which is delegated to? (\"is a\" vs \"has a\")\n",
    "> - How much flexibility should I allow in this class's inner workings?\n",
    "> - Should I split this related functionality into multiple classes or keep it in one?\n"
   ],
   "metadata": {
    "collapsed": false
   }
  },
  {
   "cell_type": "markdown",
   "source": [
    "### Design Patterns"
   ],
   "metadata": {
    "collapsed": false
   }
  },
  {
   "cell_type": "markdown",
   "source": [
    "\n",
    "Programmers have noticed that there are certain ways of arranging classes that work better than others.\n",
    "\n",
    "These are called \"design patterns\".\n",
    "\n",
    "They were first collected on one of the [world's first Wikis](http://c2.com/cgi/wiki?WelcomeVisitors), \n",
    "as the [Portland Pattern Repository](http://c2.com/cgi-bin/wiki?PatternIndex).\n"
   ],
   "metadata": {
    "collapsed": false
   }
  },
  {
   "cell_type": "markdown",
   "source": [
    "### Reading a pattern"
   ],
   "metadata": {
    "collapsed": false
   }
  },
  {
   "cell_type": "markdown",
   "source": [
    "\n",
    "A description of a pattern in a book such as the [Gang Of Four](https://www.worldcat.org/title/design-patterns-elements-of-reusable-object-oriented-software/oclc/31171684)\n",
    "book ([UCL Library](https://ucl-new-primo.hosted.exlibrisgroup.com/primo-explore/fulldisplay?docid=UCL_LMS_DS21146030410004761&context=L&vid=UCL_VU2&search_scope=CSCOP_UCL&tab=local&lang=en_US)) usually includes:\n",
    "\n",
    "* **Intent** - what's the purpose\n",
    "* **Motivation** - why you want to use it\n",
    "* **Applicability** - when do you want to use it\n",
    "* **Structure** - what does it look like (e.g., UML diagram)\n",
    "* **Participants** - What are the different classes in it\n",
    "* **Collaborations** - how they work together\n",
    "* **Consequences** - What are the results and trade-offs\n",
    "* **Implementation** - How is it implemented\n",
    "* **Sample Code** - In practice.\n"
   ],
   "metadata": {
    "collapsed": false
   }
  },
  {
   "cell_type": "markdown",
   "source": [
    "### Introducing Some Patterns"
   ],
   "metadata": {
    "collapsed": false
   }
  },
  {
   "cell_type": "markdown",
   "source": [
    "\n",
    "There are lots and lots of design patterns, and it's a great literature to get into to\n",
    "read about design questions in programming and learn from other people's experience.\n",
    "\n",
    "We'll just show a few in this session:\n",
    "\n",
    "* [Strategy](#Strategy-Pattern)\n",
    "* [Factory Method](#Factory-Pattern)\n",
    "* [Builder](#Builder-Pattern)\n",
    "* [Model-View-Controller](#Model-View-Controller)"
   ],
   "metadata": {
    "collapsed": false
   }
  },
  {
   "cell_type": "markdown",
   "source": [
    "### Supporting code"
   ],
   "metadata": {
    "collapsed": false
   }
  },
  {
   "cell_type": "code",
   "execution_count": null,
   "outputs": [],
   "source": [
    "%matplotlib inline\n",
    "from unittest.mock import Mock\n",
    "\n",
    "from IPython.display import HTML, Image\n",
    "\n",
    "def yuml(model):\n",
    "    result=requests.get(\"http://yuml.me/diagram/boring/class/\" + model)\n",
    "    return Image(result.content)\n"
   ],
   "metadata": {
    "collapsed": false,
    "pycharm": {
     "name": "#%%\n"
    }
   }
  },
  {
   "cell_type": "markdown",
   "source": [
    "## Strategy Pattern"
   ],
   "metadata": {
    "collapsed": false
   }
  },
  {
   "cell_type": "markdown",
   "source": [
    "\n",
    "Define a family of algorithms, encapsulate each one, and make them interchangeable.\n",
    "Strategy lets the algorithm vary independently, without requiring any class that uses it to change.\n"
   ],
   "metadata": {
    "collapsed": false
   }
  },
  {
   "cell_type": "markdown",
   "source": [
    "### Strategy pattern example: sunspots"
   ],
   "metadata": {
    "collapsed": false
   }
  },
  {
   "cell_type": "code",
   "execution_count": null,
   "outputs": [],
   "source": [
    "import csv\n",
    "from datetime import datetime\n",
    "from io import StringIO\n",
    "import math\n",
    "\n",
    "import matplotlib.pyplot as plt\n",
    "from numpy import linspace,log,sqrt, array\n",
    "from numpy.fft import rfft,fft,fftfreq\n",
    "from scipy.interpolate import UnivariateSpline\n",
    "from scipy.signal import lombscargle\n",
    "import requests"
   ],
   "metadata": {
    "collapsed": false,
    "pycharm": {
     "name": "#%%\n"
    }
   }
  },
  {
   "cell_type": "markdown",
   "source": [
    "Consider the sequence of sunspot observations:\n"
   ],
   "metadata": {
    "collapsed": false
   }
  },
  {
   "cell_type": "code",
   "execution_count": null,
   "outputs": [],
   "source": [
    "def load_sunspots():\n",
    "    url_base = \"http://www.quandl.com/api/v1/datasets/SIDC/SUNSPOTS_A.csv\"\n",
    "    x = requests.get(url_base,params={'trim_start':'1700-12-31',\n",
    "                                      'trim_end':'2018-01-01',\n",
    "                                      'sort_order':'asc'})\n",
    "    data = csv.reader(StringIO(x.text))  # Convert requests\n",
    "                                         # result to look\n",
    "                                         # like a file buffer before\n",
    "                                         # reading with CSV\n",
    "    next(data)  # Skip header row\n",
    "    return [float(row[1]) for row in data]"
   ],
   "metadata": {
    "collapsed": false,
    "pycharm": {
     "name": "#%%\n"
    }
   }
  },
  {
   "cell_type": "code",
   "execution_count": null,
   "outputs": [],
   "source": [
    "spots = load_sunspots()\n",
    "plt.plot(spots)"
   ],
   "metadata": {
    "collapsed": false,
    "pycharm": {
     "name": "#%%\n"
    }
   }
  },
  {
   "cell_type": "markdown",
   "source": [
    "### Sunspot cycle has periodicity"
   ],
   "metadata": {
    "collapsed": false
   }
  },
  {
   "cell_type": "code",
   "execution_count": null,
   "outputs": [],
   "source": [
    "spectrum = rfft(spots)\n",
    "\n",
    "plt.figure()\n",
    "plt.plot(abs(spectrum))\n",
    "plt.savefig('fixed.png')"
   ],
   "metadata": {
    "collapsed": false,
    "pycharm": {
     "name": "#%%\n"
    }
   }
  },
  {
   "cell_type": "markdown",
   "source": [
    "### Years are not constant length"
   ],
   "metadata": {
    "collapsed": false
   }
  },
  {
   "cell_type": "markdown",
   "source": [
    "\n",
    "There's a potential problem with this analysis however:\n",
    "\n",
    "* Years are not constant length\n",
    "* Leap years exist\n",
    "* But, the Fast Fourier Transform assumes evenly spaced intervals\n"
   ],
   "metadata": {
    "collapsed": false
   }
  },
  {
   "cell_type": "markdown",
   "source": [
    "### Strategy Pattern for Algorithms"
   ],
   "metadata": {
    "collapsed": false
   }
  },
  {
   "cell_type": "markdown",
   "source": [
    "### Uneven time series"
   ],
   "metadata": {
    "collapsed": false
   }
  },
  {
   "cell_type": "markdown",
   "source": [
    "\n",
    "The Fast Fourier Transform cannot be applied to uneven time series.\n",
    "\n",
    "We could:\n",
    "\n",
    "* Ignore this problem, and assume the effect is small;\n",
    "* Interpolate and resample to even times;\n",
    "* Use a method which is robust to unevenly sampled series, such as [LSSA](https://en.wikipedia.org/wiki/Least-squares_spectral_analysis);\n",
    "\n",
    "We also want to find the period of the strongest periodic signal in the data, there are\n",
    "various different methods we could use for this also, such as integrating the fourier series\n",
    "by quadrature to find the mean frequency, or choosing the largest single value.\n"
   ],
   "metadata": {
    "collapsed": false
   }
  },
  {
   "cell_type": "markdown",
   "source": [
    "### Too many classes!"
   ],
   "metadata": {
    "collapsed": false
   }
  },
  {
   "cell_type": "markdown",
   "source": [
    "\n",
    "We could implement a base class for our common code between the different approaches,\n",
    "and define derived classes for each different algorithmic approach. However, this has drawbacks:\n",
    "\n",
    "* The constructors for each derived class will need arguments for all the numerical method's control parameters,\n",
    "such as the degree of spline for the interpolation method, the order of quadrature for integrators, and so on.\n",
    "* Where we have multiple algorithmic choices to make (interpolator, periodogram, peak finder...) the number\n",
    "of derived classes would explode: `class SunspotAnalyzerSplineFFTTrapeziumNearMode` is a bit unwieldy.\n",
    "* The algorithmic choices are not then available for other projects\n",
    "* This design doesn't fit with a clean Ontology of \"kinds of things\": there's no Abstract Base for spectrogram generators...\n"
   ],
   "metadata": {
    "collapsed": false
   }
  },
  {
   "cell_type": "markdown",
   "source": [
    "### Apply the strategy pattern:"
   ],
   "metadata": {
    "collapsed": false
   }
  },
  {
   "cell_type": "markdown",
   "source": [
    "\n",
    "* We implement each algorithm for generating a spectrum as its own Strategy class.\n",
    "* They all implement a common interface\n",
    "* Arguments to strategy constructor specify parameters of algorithms, such as spline degree\n",
    "* One strategy instance for each algorithm is passed to the constructor for the overall analysis\n"
   ],
   "metadata": {
    "collapsed": false
   }
  },
  {
   "cell_type": "markdown",
   "source": [
    "\n",
    "First, we'll define a helper class for our time series.\n",
    "\n"
   ],
   "metadata": {
    "collapsed": false
   }
  },
  {
   "cell_type": "code",
   "execution_count": null,
   "outputs": [],
   "source": [
    "class Series:\n",
    "    \"\"\"Enhance NumPy N-d array with some helper functions for clarity\"\"\"\n",
    "    def __init__(self, data):\n",
    "        self.data = array(data)\n",
    "        self.count = self.data.shape[0]\n",
    "        self.start = self.data[0, 0]\n",
    "        self.end = self.data[-1, 0]\n",
    "        self.range = self.end - self.start\n",
    "        self.step = self.range / self.count\n",
    "        self.times = self.data[:, 0]\n",
    "        self.values = self.data[:, 1]\n",
    "        self.plot_data = [self.times, self.values]\n",
    "        self.inverse_plot_data = [1.0 / self.times[20:], self.values[20:]]"
   ],
   "metadata": {
    "collapsed": false,
    "pycharm": {
     "name": "#%%\n"
    }
   }
  },
  {
   "cell_type": "markdown",
   "source": [
    "\n",
    "Then, our class which contains the analysis code, *except* the numerical methods\n",
    "\n",
    "\n"
   ],
   "metadata": {
    "collapsed": false
   }
  },
  {
   "cell_type": "code",
   "execution_count": null,
   "outputs": [],
   "source": [
    "class AnalyseSunspotData(object):\n",
    "    def format_date(self, date):\n",
    "        date_format=\"%Y-%m-%d\"\n",
    "        return datetime.strptime(date, date_format)\n",
    "\n",
    "    def load_data(self):\n",
    "        start_date_str = '1700-12-31'\n",
    "        end_date_str = '2014-01-01'\n",
    "        self.start_date = self.format_date(start_date_str)\n",
    "        end_date = self.format_date(end_date_str)\n",
    "        url_base = (\"http://www.quandl.com/api/v1/datasets/\" +\n",
    "                    \"SIDC/SUNSPOTS_A.csv\")\n",
    "        x = requests.get(url_base,params={'trim_start': start_date_str,\n",
    "                                          'trim_end': end_date_str,\n",
    "                                          'sort_order': 'asc'})\n",
    "        secs_per_year = (datetime(2014, 1, 1) - datetime(2013, 1, 1)\n",
    "                        ).total_seconds()\n",
    "        data = csv.reader(StringIO(x.text))  # Convert requests\n",
    "                                             # result to look\n",
    "                                             # like a file buffer before\n",
    "                                             # reading with CSV\n",
    "        next(data) # Skip header row\n",
    "        self.series = Series([[\n",
    "                (self.format_date(row[0]) - self.start_date\n",
    "                ).total_seconds()/secs_per_year,\n",
    "                float(row[1])] for row in data])\n",
    "\n",
    "    def __init__(self, frequency_strategy):\n",
    "        self.load_data()\n",
    "        self.frequency_strategy = frequency_strategy\n",
    "\n",
    "    def frequency_data(self):\n",
    "        return self.frequency_strategy.transform(self.series)"
   ],
   "metadata": {
    "collapsed": false,
    "pycharm": {
     "name": "#%%\n"
    }
   }
  },
  {
   "cell_type": "markdown",
   "source": [
    "\n",
    "Our existing simple fourier strategy\n",
    "\n",
    "\n"
   ],
   "metadata": {
    "collapsed": false
   }
  },
  {
   "cell_type": "code",
   "execution_count": null,
   "outputs": [],
   "source": [
    "class FourierNearestFrequencyStrategy:\n",
    "    def transform(self, series):\n",
    "        transformed = fft(series.values)[0:series.count//2]\n",
    "        frequencies = fftfreq(series.count, series.step)[0:series.count//2]\n",
    "        return Series(list(zip(frequencies, abs(transformed)/series.count)))"
   ],
   "metadata": {
    "collapsed": false,
    "pycharm": {
     "name": "#%%\n"
    }
   }
  },
  {
   "cell_type": "markdown",
   "source": [
    "\n",
    "A strategy based on interpolation to a spline\n",
    "\n",
    "\n"
   ],
   "metadata": {
    "collapsed": false
   }
  },
  {
   "cell_type": "code",
   "execution_count": null,
   "outputs": [],
   "source": [
    "class FourierSplineFrequencyStrategy:\n",
    "    def next_power_of_two(self, value):\n",
    "        \"Return the next power of 2 above value\"\n",
    "        return 2**(1 + int(log(value) / log(2)))\n",
    "\n",
    "    def transform(self, series):\n",
    "        spline = UnivariateSpline(series.times, series.values)\n",
    "        # Linspace will give us *evenly* spaced points in the series\n",
    "        fft_count = self.next_power_of_two(series.count)\n",
    "        points = linspace(series.start,series.end,fft_count)\n",
    "        regular_xs = [spline(point) for point in points]\n",
    "        transformed = fft(regular_xs)[0:fft_count//2]\n",
    "        frequencies = fftfreq(fft_count,\n",
    "                              series.range/fft_count)[0:fft_count//2]\n",
    "        return Series(list(zip(frequencies, abs(transformed)/fft_count)))"
   ],
   "metadata": {
    "collapsed": false,
    "pycharm": {
     "name": "#%%\n"
    }
   }
  },
  {
   "cell_type": "markdown",
   "source": [
    "\n",
    "A strategy using the Lomb-Scargle Periodogram\n",
    "\n",
    "\n"
   ],
   "metadata": {
    "collapsed": false
   }
  },
  {
   "cell_type": "code",
   "execution_count": null,
   "outputs": [],
   "source": [
    "class LombFrequencyStrategy:\n",
    "    def transform(self, series):\n",
    "        frequencies = array(linspace(1.0 / series.range,\n",
    "                                     0.5 / series.step,\n",
    "                                     series.count))\n",
    "        result = lombscargle(series.times,\n",
    "                             series.values,\n",
    "                             2.0 * math.pi * frequencies)\n",
    "        return Series(list(zip(frequencies, sqrt(result / series.count))))"
   ],
   "metadata": {
    "collapsed": false,
    "pycharm": {
     "name": "#%%\n"
    }
   }
  },
  {
   "cell_type": "markdown",
   "source": [
    "\n",
    "Define our concrete solutions with particular strategies\n",
    "\n",
    "\n"
   ],
   "metadata": {
    "collapsed": false
   }
  },
  {
   "cell_type": "code",
   "execution_count": null,
   "outputs": [],
   "source": [
    "fourier_model = AnalyseSunspotData(FourierSplineFrequencyStrategy())\n",
    "lomb_model = AnalyseSunspotData(LombFrequencyStrategy())\n",
    "nearest_model = AnalyseSunspotData(FourierNearestFrequencyStrategy())"
   ],
   "metadata": {
    "collapsed": false,
    "pycharm": {
     "name": "#%%\n"
    }
   }
  },
  {
   "cell_type": "markdown",
   "source": [
    "\n",
    "Use these new tools to compare solutions\n",
    "\n",
    "\n"
   ],
   "metadata": {
    "collapsed": false
   }
  },
  {
   "cell_type": "code",
   "execution_count": null,
   "outputs": [],
   "source": [
    "comparison = fourier_model.frequency_data().inverse_plot_data + ['r']\n",
    "comparison += lomb_model.frequency_data().inverse_plot_data + ['g']\n",
    "comparison += nearest_model.frequency_data().inverse_plot_data + ['b']"
   ],
   "metadata": {
    "collapsed": false,
    "pycharm": {
     "name": "#%%\n"
    }
   }
  },
  {
   "cell_type": "code",
   "execution_count": null,
   "outputs": [],
   "source": [
    "deviation = 365 * (fourier_model.series.times-linspace(\n",
    "    fourier_model.series.start,\n",
    "    fourier_model.series.end,\n",
    "    fourier_model.series.count))"
   ],
   "metadata": {
    "collapsed": false,
    "pycharm": {
     "name": "#%%\n"
    }
   }
  },
  {
   "cell_type": "code",
   "execution_count": null,
   "outputs": [],
   "source": [
    "plt.plot(*comparison)\n",
    "plt.xlim(0, 16)"
   ],
   "metadata": {
    "collapsed": false,
    "pycharm": {
     "name": "#%%\n"
    }
   }
  },
  {
   "cell_type": "markdown",
   "source": [
    "### Results: Deviation of year length from average"
   ],
   "metadata": {
    "collapsed": false
   }
  },
  {
   "cell_type": "code",
   "execution_count": null,
   "outputs": [],
   "source": [
    "plt.plot(deviation)"
   ],
   "metadata": {
    "collapsed": false,
    "pycharm": {
     "name": "#%%\n"
    }
   }
  },
  {
   "cell_type": "markdown",
   "source": [
    "## Factory Pattern"
   ],
   "metadata": {
    "collapsed": false
   }
  },
  {
   "cell_type": "markdown",
   "source": [
    "\n",
    "Here's what the Gang of Four Book says about Factory Method:\n",
    "\n",
    "**Intent**:  Define an interface for creating an object, but let subclasses decide which class to instantiate.\n",
    "Factory Method lets a class defer instantiation to subclasses.\n",
    "\n",
    "**Applicability**: Use the Factory method pattern when:\n",
    "\n",
    "* A class can't anticipate the class of objects it must create\n",
    "* A class wants its subclasses to specify the objects it creates\n",
    "\n",
    "This is pretty hard to understand, so let's look at an example.\n"
   ],
   "metadata": {
    "collapsed": false
   }
  },
  {
   "cell_type": "markdown",
   "source": [
    "### Factory UML"
   ],
   "metadata": {
    "collapsed": false
   }
  },
  {
   "cell_type": "code",
   "execution_count": null,
   "outputs": [],
   "source": [
    "yuml(\"[Product]^-[ConcreteProduct], \"+\n",
    "     \"[Creator| (v) FactoryMethod()]^-[ConcreteCreator| FactoryMethod()], \"+\n",
    "     \"[ConcreteCreator]-.->[ConcreteProduct]\")"
   ],
   "metadata": {
    "collapsed": false,
    "pycharm": {
     "name": "#%%\n"
    }
   }
  },
  {
   "cell_type": "markdown",
   "source": [
    "### Factory Example"
   ],
   "metadata": {
    "collapsed": false
   }
  },
  {
   "cell_type": "markdown",
   "source": [
    "\n",
    "An \"agent based model\" is one like the Boids model from last week:\n",
    "agents act and interact under certain rules. Complex phenomena can be described by simple\n",
    "agent behaviours.\n",
    "\n",
    "\n"
   ],
   "metadata": {
    "collapsed": false
   }
  },
  {
   "cell_type": "code",
   "execution_count": null,
   "outputs": [],
   "source": [
    "class AgentModel:\n",
    "    def simulate(self):\n",
    "        for agent in agents:\n",
    "            for target in agents:\n",
    "                agent.interact(target)\n",
    "        agent.simulate()"
   ],
   "metadata": {
    "collapsed": false,
    "pycharm": {
     "name": "#%%\n"
    }
   }
  },
  {
   "cell_type": "markdown",
   "source": [
    "### Agent model constructor"
   ],
   "metadata": {
    "collapsed": false
   }
  },
  {
   "cell_type": "markdown",
   "source": [
    "\n",
    "This logic is common to many kinds of Agent based model (ABM), so we can imagine a common class\n",
    "for agent based models: the constructor could parse a configuration specifying how many agents of each type to create,\n",
    "their initial conditions and so on.\n",
    "\n",
    "However, this common constructor doesn't know what kind of agent to create; as a common base, it could be a model of boids,\n",
    "or the agents could be remote agents on foreign servers, or they could even be physical hardware robots connected to the driving model\n",
    "over Wifi!\n",
    "\n",
    "We need to defer the construction of the agents. We can do this with polymorphism: each derived class of the ABM can have an appropriate\n",
    "method to create its agents:\n",
    "\n",
    "\n"
   ],
   "metadata": {
    "collapsed": false
   }
  },
  {
   "cell_type": "code",
   "execution_count": null,
   "outputs": [],
   "source": [
    "class AgentModel:\n",
    "    def __init__(self, config):\n",
    "        self.agents = []\n",
    "        for agent_config in config:\n",
    "            self.agents.append(self.create(**agent_config))"
   ],
   "metadata": {
    "collapsed": false,
    "pycharm": {
     "name": "#%%\n"
    }
   }
  },
  {
   "cell_type": "markdown",
   "source": [
    "This is the *factory method* pattern: a common design solution to the need to defer the construction of daughter objects to a derived class. `self.create` is not defined here, but in each of the agents that inherits from `AgentModel`. Using polimorphism to get deffered behaviour on what you want to create."
   ],
   "metadata": {
    "collapsed": false
   }
  },
  {
   "cell_type": "markdown",
   "source": [
    "### Agent derived classes"
   ],
   "metadata": {
    "collapsed": false
   }
  },
  {
   "cell_type": "markdown",
   "source": [
    "The type that is created is different in the different derived classes:"
   ],
   "metadata": {
    "collapsed": false
   }
  },
  {
   "cell_type": "code",
   "execution_count": null,
   "outputs": [],
   "source": [
    "class BirdModel(AgentModel):\n",
    "    def create(self, agent_config):\n",
    "        return Boid(agent_config)"
   ],
   "metadata": {
    "collapsed": false,
    "pycharm": {
     "name": "#%%\n"
    }
   }
  },
  {
   "cell_type": "markdown",
   "source": [
    "\n",
    "\n",
    "\n",
    "Agents are the base product, boids or robots are a ConcreteProduct.\n",
    "\n",
    "\n"
   ],
   "metadata": {
    "collapsed": false
   }
  },
  {
   "cell_type": "code",
   "execution_count": null,
   "outputs": [],
   "source": [
    "class WebAgentFactory(AgentModel):\n",
    "    def __init__(self, url):\n",
    "        self.url = url\n",
    "        self.connection = AmazonCompute.connect(url)\n",
    "        AgentModel.__init__(self)\n",
    "    def create(self, agent_config):\n",
    "        return OnlineAgent(agent_config, self.connection)"
   ],
   "metadata": {
    "collapsed": false,
    "pycharm": {
     "name": "#%%\n"
    }
   }
  },
  {
   "cell_type": "markdown",
   "source": [
    "\n",
    "\n",
    "\n",
    "There is no need to define an explicit base interface for the \"Agent\" concept in Python: anything that responds to \"simulate\" and \"interact\" \n",
    "methods will do: this is our Agent concept.\n"
   ],
   "metadata": {
    "collapsed": false
   }
  },
  {
   "cell_type": "markdown",
   "source": [
    "### Refactoring to Patterns"
   ],
   "metadata": {
    "collapsed": false
   }
  },
  {
   "cell_type": "markdown",
   "source": [
    "\n",
    "I personally have got into a terrible tangle trying to make base classes which somehow\n",
    "\"promote\" themselves into a derived class based on some code in the base class.\n",
    "\n",
    "This is an example of an \"Antipattern\": like a Smell, this is a recognised Wrong Way\n",
    "of doing things.\n",
    "\n",
    "What I should have written was a Creator with a FactoryMethod.\n"
   ],
   "metadata": {
    "collapsed": false
   }
  },
  {
   "cell_type": "markdown",
   "source": [
    "Consider the following code:"
   ],
   "metadata": {
    "collapsed": false
   }
  },
  {
   "cell_type": "code",
   "execution_count": null,
   "outputs": [],
   "source": [
    "class AgentModel:\n",
    "    def simulate(self):\n",
    "        for agent in agents:\n",
    "            for target in agents:\n",
    "                agent.interact(target)\n",
    "            agent.simulate()\n",
    "\n",
    "class BirdModel(AgentModel):\n",
    "    def __init__(self, config):\n",
    "        self.boids = []\n",
    "        for boid_config in config:\n",
    "            self.boids.append(Boid(**boid_config))\n",
    "\n",
    "class WebAgentFactory(AgentModel):\n",
    "    def __init__(self, url, config):\n",
    "        self.url = url\n",
    "        connection = AmazonCompute.connect(url)\n",
    "        AgentModel.__init__(self)\n",
    "        self.web_agents = []\n",
    "        for agent_config in config:\n",
    "            self.web_agents.append(OnlineAgent(agent_config, connection))"
   ],
   "metadata": {
    "collapsed": false,
    "pycharm": {
     "name": "#%%\n"
    }
   }
  },
  {
   "cell_type": "markdown",
   "source": [
    "The agent creation loop is almost identical in the two classes; so we can be sure we need to refactor it away; but the **type** that is created is different\n",
    "in the two cases, so this is the smell that we need a factory pattern."
   ],
   "metadata": {
    "collapsed": false
   }
  },
  {
   "cell_type": "markdown",
   "source": [
    "## Builder Pattern"
   ],
   "metadata": {
    "collapsed": false
   }
  },
  {
   "cell_type": "markdown",
   "source": [
    "**Intent**: Separate the steps for constructing a complex object from its final representation."
   ],
   "metadata": {
    "collapsed": false
   }
  },
  {
   "cell_type": "code",
   "execution_count": null,
   "outputs": [],
   "source": [
    "yuml(\"[Director|Construct()]<>->[Builder| (a) BuildPart()],\"+\n",
    "     \" [Builder]^-[ConcreteBuilder| BuildPart();GetResult() ],\"+\n",
    "     \"[ConcreteBuilder]-.->[Product]\")"
   ],
   "metadata": {
    "collapsed": false,
    "pycharm": {
     "name": "#%%\n"
    }
   }
  },
  {
   "cell_type": "markdown",
   "source": [
    "### Builder example"
   ],
   "metadata": {
    "collapsed": false
   }
  },
  {
   "cell_type": "markdown",
   "source": [
    "\n",
    "Let's continue our Agent Based modelling example.\n",
    "\n",
    "There's a lot more to defining a model than just adding agents of different kinds: we need to define boundary conditions,\n",
    "specify wind speed or light conditions.\n",
    "\n",
    "We could define all of this for an imagined advanced Model with a very very long constructor, with lots of optional arguments:\n",
    "\n",
    "\n"
   ],
   "metadata": {
    "collapsed": false
   }
  },
  {
   "cell_type": "code",
   "execution_count": null,
   "outputs": [],
   "source": [
    "class Model:\n",
    "    def __init__(self, xsize, ysize,\n",
    "                 agent_count, wind_speed,\n",
    "                 agent_sight_range, eagle_start_location):\n",
    "        pass"
   ],
   "metadata": {
    "collapsed": false,
    "pycharm": {
     "name": "#%%\n"
    }
   }
  },
  {
   "cell_type": "markdown",
   "source": [
    "### Builder preferred to complex constructor"
   ],
   "metadata": {
    "collapsed": false
   }
  },
  {
   "cell_type": "markdown",
   "source": [
    "\n",
    "However, long constructors easily become very complicated. Instead, it can be cleaner to define a Builder for models. A builder is like a \n",
    "deferred factory: each step of the construction process is implemented as an individual method call, and the completed object\n",
    "is returned when the model is ready.\n",
    "\n",
    "\n",
    "\n"
   ],
   "metadata": {
    "collapsed": false
   }
  },
  {
   "cell_type": "code",
   "execution_count": null,
   "outputs": [],
   "source": [
    "Model = Mock() # Create a temporary mock so the example works!"
   ],
   "metadata": {
    "collapsed": false,
    "pycharm": {
     "name": "#%%\n"
    }
   }
  },
  {
   "cell_type": "code",
   "execution_count": null,
   "outputs": [],
   "source": [
    "class ModelBuilder:\n",
    "    def start_model(self):\n",
    "        self.model = Model()\n",
    "        self.model.xlim = None\n",
    "        self.model.ylim = None\n",
    "        \n",
    "    def set_bounds(self, xlim, ylim):\n",
    "        self.model.xlim = xlim\n",
    "        self.model.ylim = ylim\n",
    "    \n",
    "    def add_agent(self, xpos, ypos):\n",
    "        pass # Implementation here\n",
    "    \n",
    "    def finish(self):\n",
    "        self.validate()\n",
    "        return self.model\n",
    "    \n",
    "    def validate(self):\n",
    "        assert(self.model.xlim is not None)\n",
    "        # Check that the all the\n",
    "        # parameters that need to be set\n",
    "        # have indeed been set."
   ],
   "metadata": {
    "collapsed": false,
    "pycharm": {
     "name": "#%%\n"
    }
   }
  },
  {
   "cell_type": "markdown",
   "source": [
    "\n",
    "\n",
    "\n",
    "Inheritance of an Abstract Builder for multiple concrete builders could be used where there might be multiple ways to build models\n",
    "with the same set of calls to the builder: for example a version of the model builder yielding models which can be executed\n",
    "in parallel on a remote cluster.\n"
   ],
   "metadata": {
    "collapsed": false
   }
  },
  {
   "cell_type": "markdown",
   "source": [
    "### Using a builder"
   ],
   "metadata": {
    "collapsed": false
   }
  },
  {
   "cell_type": "code",
   "execution_count": null,
   "outputs": [],
   "source": [
    "builder = ModelBuilder()\n",
    "builder.start_model()\n",
    "\n",
    "builder.set_bounds(500, 500)\n",
    "builder.add_agent(40, 40)\n",
    "builder.add_agent(400, 100)\n",
    "\n",
    "model = builder.finish()\n",
    "model.simulate()"
   ],
   "metadata": {
    "collapsed": false,
    "pycharm": {
     "name": "#%%\n"
    }
   }
  },
  {
   "cell_type": "markdown",
   "source": [
    "### Avoid staged construction without a builder."
   ],
   "metadata": {
    "collapsed": false
   }
  },
  {
   "cell_type": "markdown",
   "source": [
    "\n",
    "We could, of course, just add all the building methods to the model itself, rather than having the model be yielded from a separate builder.\n",
    "\n",
    "This is an antipattern that is often seen: a class whose `__init__` constructor alone is insufficient for it to be ready to use. A series of\n",
    "methods must be called, in the right order, in order for it to be ready to use.\n",
    "\n",
    "This results in very fragile code: its hard to keep track of whether an object instance is \"ready\" or not. Use the builder pattern to keep deferred construction in control."
   ],
   "metadata": {
    "collapsed": false
   }
  },
  {
   "cell_type": "markdown",
   "source": [
    "We might ask why we couldn't just use a validator in all of the methods that must follow the deferred constructors; to check they have been called.\n",
    "But we'd need to put these in *every* method of the class, whereas with a builder, we can validate only in the `finish` method.\n",
    "\n"
   ],
   "metadata": {
    "collapsed": false
   }
  },
  {
   "cell_type": "markdown",
   "source": [
    "## Model-View-Controller"
   ],
   "metadata": {
    "collapsed": false
   }
  },
  {
   "cell_type": "markdown",
   "source": [
    "### Separate graphics from science!"
   ],
   "metadata": {
    "collapsed": false
   }
  },
  {
   "cell_type": "markdown",
   "source": [
    "\n",
    "Whenever we are coding a simulation or model we want to:\n",
    "\n",
    "* Implement the maths of the model\n",
    "* Visualise, plot, or print out what is going on.\n",
    "\n",
    "We often see scientific programs where the code which is used to display what is happening is mixed up with the\n",
    "mathematics of the analysis. This is hard to understand.\n",
    "\n",
    "We can do better by separating the `Model` from the `View`, and using a \"`Controller`\" to manage them.\n"
   ],
   "metadata": {
    "collapsed": false
   }
  },
  {
   "cell_type": "markdown",
   "source": [
    "### Model\n",
    "\n",
    "This is where we describe our internal logic, rules, etc."
   ],
   "metadata": {
    "collapsed": false
   }
  },
  {
   "cell_type": "code",
   "execution_count": null,
   "outputs": [],
   "source": [
    "import numpy as np\n",
    "\n",
    "class Model:\n",
    "    def __init__(self):\n",
    "        self.positions = np.random.rand(100, 2)\n",
    "        self.speeds = (np.random.rand(100, 2) +\n",
    "                       np.array([-0.5, -0.5])[np.newaxis, :])\n",
    "        self.deltat = 0.01\n",
    "    \n",
    "    def simulation_step(self):\n",
    "        self.positions += self.speeds * self.deltat\n",
    "    \n",
    "    def agent_locations(self):\n",
    "        return self.positions"
   ],
   "metadata": {
    "collapsed": false,
    "pycharm": {
     "name": "#%%\n"
    }
   }
  },
  {
   "cell_type": "markdown",
   "source": [
    "### View\n",
    "\n",
    "This is where we describe what the user sees of our Model, what's displayed. You may have different type of visualisation (_e.g._, on one type of projection, a 3D view, a surface view, ...) which can be implemented in different _view_ classes."
   ],
   "metadata": {
    "collapsed": false
   }
  },
  {
   "cell_type": "code",
   "execution_count": null,
   "outputs": [],
   "source": [
    "class View:\n",
    "    def __init__(self, model):\n",
    "        from matplotlib import pyplot as plt\n",
    "        self.figure = plt.figure()\n",
    "        axes = plt.axes()\n",
    "        self.model = model\n",
    "        self.scatter = axes.scatter(\n",
    "                model.agent_locations()[:, 0],\n",
    "                model.agent_locations()[:, 1])\n",
    "        \n",
    "    def update(self):\n",
    "        self.scatter.set_offsets(\n",
    "            self.model.agent_locations())"
   ],
   "metadata": {
    "collapsed": false,
    "pycharm": {
     "name": "#%%\n"
    }
   }
  },
  {
   "cell_type": "markdown",
   "source": [
    "### Controller\n",
    "\n",
    "This is the class that tells the view that the models has changed and updates the model with any change the user has input through the view."
   ],
   "metadata": {
    "collapsed": false
   }
  },
  {
   "cell_type": "code",
   "execution_count": null,
   "outputs": [],
   "source": [
    "class Controller:\n",
    "    def __init__(self):\n",
    "        self.model = Model() # Or use Builder\n",
    "        self.view = View(self.model)\n",
    "        def animate(frame_number):\n",
    "            self.model.simulation_step()\n",
    "            self.view.update()\n",
    "        self.animator = animate\n",
    "        \n",
    "    def go(self):\n",
    "        from matplotlib import animation\n",
    "        anim = animation.FuncAnimation(self.view.figure,\n",
    "                                       self.animator, \n",
    "                                       frames=200, \n",
    "                                       interval=50)\n",
    "        return anim.to_jshtml()"
   ],
   "metadata": {
    "collapsed": false,
    "pycharm": {
     "name": "#%%\n"
    }
   }
  },
  {
   "cell_type": "code",
   "execution_count": null,
   "outputs": [],
   "source": [
    "contl = Controller()"
   ],
   "metadata": {
    "collapsed": false,
    "pycharm": {
     "name": "#%%\n"
    }
   }
  },
  {
   "cell_type": "code",
   "execution_count": null,
   "outputs": [],
   "source": [
    "HTML(contl.go())"
   ],
   "metadata": {
    "collapsed": false,
    "pycharm": {
     "name": "#%%\n"
    }
   }
  },
  {
   "cell_type": "markdown",
   "source": [
    "### Other resources\n",
    "\n",
    "- [Course on design patterns](https://www.lynda.com/Python-tutorials/Design-Patterns-Python/369187-2.html) and [Advanced design patterns](https://www.lynda.com/Python-tutorials/Python-Advanced-Design-Patterns/656802-2.html) with Python at [Lynda.com](https://ucl.ac.uk/lynda).\n",
    "- [A collection of design patterns and idioms in Python](https://github.com/faif/python-patterns).\n",
    "- [Head First Desssign Patterns](http://www.worldcat.org/title/head-first-design-patterns/oclc/893944765) (Available [online at UCL](https://ucl-new-primo.hosted.exlibrisgroup.com/primo-explore/fulldisplay?docid=UCL_LMS_DS51233633660004761&context=L&vid=UCL_VU2&search_scope=CSCOP_UCL&tab=local&lang=en_US)) - based on Java (with [online course at Lynda.com](https://www.lynda.com/Developer-Programming-Foundations-tutorials/Foundations-Programming-Design-Patterns/135365-2.html)).\n",
    "- [Design Pattern for Dummies](http://www.worldcat.org/title/design-patterns-for-dummies/oclc/69537420&referer=brief_results).\n"
   ],
   "metadata": {
    "collapsed": false
   }
  }
 ],
 "metadata": {
  "jekyll": {
   "display_name": "Design Patterns"
  },
  "kernelspec": {
   "display_name": "Python 3",
   "language": "python",
   "name": "python3"
  },
  "language_info": {
   "codemirror_mode": {
    "name": "ipython",
    "version": 3
   },
   "file_extension": ".py",
   "mimetype": "text/x-python",
   "name": "python",
   "nbconvert_exporter": "python",
   "pygments_lexer": "ipython3",
   "version": "3.5.2"
  }
 },
 "nbformat": 4,
 "nbformat_minor": 0
}