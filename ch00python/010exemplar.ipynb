{
 "cells": [
  {
   "cell_type": "markdown",
   "metadata": {},
   "source": [
    "## An example Python data analysis notebook"
   ]
  },
  {
   "cell_type": "markdown",
   "metadata": {},
   "source": [
    "This page illustrates how to use Python to perform a simple but complete analysis: retrieve data, do some computations based on it, and visualise the results.\n",
    "\n",
    "**Don't worry if you don't understand everything on this page!** Its purpose is to give you an example of things you can do and how to go about doing them - you are not expected to be able to reproduce an analysis like this in Python at this stage! We will be looking at the concepts and practices introduced on this page as we go along the course.\n",
    "\n",
    "As we show the code for different parts of the work, we will be touching on various aspects you may want to keep in mind, either related to Python specifically, or to research programming more generally."
   ]
  },
  {
   "cell_type": "markdown",
   "metadata": {},
   "source": [
    "### Why write software to manage your data and plots? "
   ]
  },
  {
   "cell_type": "markdown",
   "metadata": {},
   "source": [
    "We can use programs for our entire research pipeline. Not just big scientific simulation codes, but also the small scripts which we use to tidy up data and produce plots. This should be code, so that the whole research pipeline\n",
    "is recorded for reproducibility. Data manipulation in spreadsheets is much harder to share or \n",
    "check. "
   ]
  },
  {
   "cell_type": "markdown",
   "metadata": {},
   "source": [
    "You can see another similar demonstration on the [software carpentry site](https://swcarpentry.github.io/python-novice-inflammation/01-numpy/index.html). \n",
    "We'll try to give links to other sources of Python training along the way.\n",
    "Part of our approach is that we assume you know how to use the internet! If you\n",
    "find something confusing out there, please bring it along to the next session. In this course, we'll always try to draw your attention to other sources of information about what we're learning. Paying attention to as many of these as you need to, is just as important as these core notes."
   ]
  },
  {
   "cell_type": "markdown",
   "metadata": {},
   "source": [
    "### Importing Libraries"
   ]
  },
  {
   "cell_type": "markdown",
   "metadata": {},
   "source": [
    "Research programming is all about using libraries: tools other people have provided programs that do many cool things.\n",
    "By combining them we can feel really powerful but doing minimum work ourselves. The python syntax to import someone else's library is \"import\"."
   ]
  },
  {
   "cell_type": "code",
   "execution_count": 2,
   "metadata": {
    "ExecuteTime": {
     "end_time": "2020-08-06T14:46:08.595382Z",
     "start_time": "2020-08-06T14:46:08.505509Z"
    }
   },
   "outputs": [],
   "source": [
    "import geopy # A python library for investigating geographic information.\n",
    "# https://pypi.org/project/geopy/"
   ]
  },
  {
   "cell_type": "markdown",
   "metadata": {},
   "source": [
    "Now, if you try to follow along on this example in an Jupyter notebook, you'll probably find that \n",
    "you just got an error message.\n",
    "\n",
    "You'll need to wait until we've covered installation of additional python libraries later in the course, then come\n",
    "back to this and try again. For now, just follow along and try get the feel for how programming for data-focused\n",
    "research works."
   ]
  },
  {
   "cell_type": "code",
   "execution_count": 7,
   "metadata": {
    "ExecuteTime": {
     "end_time": "2020-08-06T14:50:39.740475Z",
     "start_time": "2020-08-06T14:50:39.242606Z"
    }
   },
   "outputs": [
    {
     "data": {
      "text/plain": [
       "[Location(Cambridge, Cambridgeshire, East of England, England, United Kingdom, (52.2034823, 0.1235817, 0.0)),\n",
       " Location(Cambridge, Cambridgeshire, East of England, England, United Kingdom, (52.2034823, 0.1235817, 0.0)),\n",
       " Location(Cambridge, Middlesex County, Massachusetts, United States of America, (42.3750997, -71.1056157, 0.0)),\n",
       " Location(Cambridge, Waterloo Region, Southwestern Ontario, Ontario, N1R 1T7, Canada, (43.3600536, -80.3123023, 0.0)),\n",
       " Location(Cambridge, Henry County, Illinois, United States of America, (41.3036472, -90.1928971, 0.0)),\n",
       " Location(Cambridge, Isanti County, Minnesota, 55008, United States of America, (45.5727408, -93.2243921, 0.0)),\n",
       " Location(Cambridge, Story County, Iowa, 50046, United States of America, (41.8990768, -93.5294029, 0.0)),\n",
       " Location(Cambridge, Dorchester County, Maryland, 21613, United States of America, (38.5714624, -76.0763177, 0.0)),\n",
       " Location(Cambridge, Guernsey County, Ohio, 43725, United States of America, (40.031183, -81.5884561, 0.0)),\n",
       " Location(Cambridge, Jefferson County, Kentucky, United States of America, (38.2217369, -85.616627, 0.0))]"
      ]
     },
     "execution_count": 7,
     "metadata": {},
     "output_type": "execute_result"
    }
   ],
   "source": [
    "geocoder = geopy.geocoders.Nominatim(user_agent=\"mphy0021\")\n",
    "geocoder.geocode('Cambridge', exactly_one=False)"
   ]
  },
  {
   "cell_type": "markdown",
   "metadata": {},
   "source": [
    "The results come out as a **list** inside a list: `[Name, [Latitude, Longitude]]`. \n",
    "Programs represent data in a variety of different containers like this."
   ]
  },
  {
   "cell_type": "markdown",
   "metadata": {},
   "source": [
    "### Comments"
   ]
  },
  {
   "cell_type": "markdown",
   "metadata": {},
   "source": [
    "Code after a `#` symbol doesn't get run."
   ]
  },
  {
   "cell_type": "code",
   "execution_count": 3,
   "metadata": {
    "ExecuteTime": {
     "end_time": "2020-08-06T13:18:11.121126Z",
     "start_time": "2020-08-06T13:18:11.094589Z"
    }
   },
   "outputs": [
    {
     "name": "stdout",
     "output_type": "stream",
     "text": [
      "This runs\n"
     ]
    }
   ],
   "source": [
    "print(\"This runs\") # print(\"This doesn't\")\n",
    "# print(\"This doesn't either\")"
   ]
  },
  {
   "cell_type": "markdown",
   "metadata": {},
   "source": [
    "### Functions"
   ]
  },
  {
   "cell_type": "markdown",
   "metadata": {},
   "source": [
    "We can wrap code up in a **function**, so that we can repeatedly get just the information we want.\n"
   ]
  },
  {
   "cell_type": "code",
   "execution_count": 4,
   "metadata": {
    "ExecuteTime": {
     "end_time": "2020-08-06T13:18:11.918579Z",
     "start_time": "2020-08-06T13:18:11.894398Z"
    }
   },
   "outputs": [],
   "source": [
    "def geolocate(place):\n",
    "    return geocoder.geocode(place, exactly_one = False)[0][1]"
   ]
  },
  {
   "cell_type": "markdown",
   "metadata": {},
   "source": [
    "Defining **functions** which put together code to make a more complex task seem simple from the outside is the most important thing in programming. The output of the function is stated by \"return\"; the input comes in in brackets after the function name:\n"
   ]
  },
  {
   "cell_type": "code",
   "execution_count": 5,
   "metadata": {
    "ExecuteTime": {
     "end_time": "2020-08-06T13:18:12.975435Z",
     "start_time": "2020-08-06T13:18:12.751719Z"
    }
   },
   "outputs": [
    {
     "data": {
      "text/plain": [
       "(52.2053855332241, 0.12181995849728)"
      ]
     },
     "execution_count": 5,
     "metadata": {},
     "output_type": "execute_result"
    }
   ],
   "source": [
    "geolocate('Cambridge')"
   ]
  },
  {
   "cell_type": "markdown",
   "metadata": {},
   "source": [
    "### Variables"
   ]
  },
  {
   "cell_type": "markdown",
   "metadata": {},
   "source": [
    "We can store a result in a variable:"
   ]
  },
  {
   "cell_type": "code",
   "execution_count": 6,
   "metadata": {
    "ExecuteTime": {
     "end_time": "2020-08-06T13:18:14.104799Z",
     "start_time": "2020-08-06T13:18:13.871895Z"
    }
   },
   "outputs": [
    {
     "name": "stdout",
     "output_type": "stream",
     "text": [
      "(51.5073584389643, -0.12775209319198)\n"
     ]
    }
   ],
   "source": [
    "london_location = geolocate(\"London\")\n",
    "print(london_location)"
   ]
  },
  {
   "cell_type": "markdown",
   "metadata": {},
   "source": [
    "### More complex functions"
   ]
  },
  {
   "cell_type": "markdown",
   "metadata": {},
   "source": [
    "We'll fetch a map of a place from the Google Maps server, given a longitude and latitude.\n",
    "The URLs look like: https://mt0.google.com/vt?x=658&y=340&z=10&lyrs=s.    \n",
    "The latitude & longitude need to be translated to the coordinate system used by Google Maps and we'll frequently be generating these URLs.\n",
    "So we'll make ourselves another function to build up a request from the URL given our parameters."
   ]
  },
  {
   "cell_type": "code",
   "execution_count": 7,
   "metadata": {
    "ExecuteTime": {
     "end_time": "2020-08-06T13:18:41.903152Z",
     "start_time": "2020-08-06T13:18:41.884801Z"
    }
   },
   "outputs": [],
   "source": [
    "import os\n",
    "import math\n",
    "import requests\n",
    "\n",
    "def request_map_at(lat, long, zoom=10, satellite=True):\n",
    "    \n",
    "    base_url = \"https://mt0.google.com/vt?\"\n",
    "    \n",
    "    gmaps_tile_size = 256\n",
    "    num_tiles = 1 << zoom\n",
    "    \n",
    "    x_coord = (gmaps_tile_size / 2 + lat * gmaps_tile_size / 360.0) * num_tiles // gmaps_tile_size\n",
    "    sin_y = math.sin(lat * (math.pi / 180.0))  \n",
    "    y_coord = ((gmaps_tile_size / 2) + 0.5 * math.log((1 + sin_y) / (1 - sin_y)) * \n",
    "               -(gmaps_tile_size / (2 * math.pi))) * num_tiles // gmaps_tile_size\n",
    "\n",
    "    params = dict(\n",
    "        x=int(x_coord),\n",
    "        y=int(y_coord),\n",
    "        z=zoom\n",
    "    )\n",
    "    if satellite:\n",
    "        params['lyrs'] = 's'\n",
    "\n",
    "    return requests.get(base_url, params=params)"
   ]
  },
  {
   "cell_type": "code",
   "execution_count": 8,
   "metadata": {
    "ExecuteTime": {
     "end_time": "2020-08-06T13:18:42.779116Z",
     "start_time": "2020-08-06T13:18:42.433416Z"
    }
   },
   "outputs": [],
   "source": [
    "map_response = request_map_at(51.5072, -0.1275)"
   ]
  },
  {
   "cell_type": "markdown",
   "metadata": {},
   "source": [
    "### Checking our work"
   ]
  },
  {
   "cell_type": "markdown",
   "metadata": {},
   "source": [
    "Let's see what URL we ended up with:"
   ]
  },
  {
   "cell_type": "code",
   "execution_count": 14,
   "metadata": {
    "ExecuteTime": {
     "end_time": "2020-08-06T13:19:45.113537Z",
     "start_time": "2020-08-06T13:19:45.086080Z"
    }
   },
   "outputs": [
    {
     "name": "stdout",
     "output_type": "stream",
     "text": [
      "https://mt0.google.com/vt\n",
      "?x=658&y=340&z=10&lyrs=s\n"
     ]
    }
   ],
   "source": [
    "url = map_response.url\n",
    "print(url[0:25])\n",
    "print(url[25:])"
   ]
  },
  {
   "cell_type": "markdown",
   "metadata": {},
   "source": [
    "We can write **automated tests** so that if we change our code later, we can check the results are still valid."
   ]
  },
  {
   "cell_type": "code",
   "execution_count": 15,
   "metadata": {
    "ExecuteTime": {
     "end_time": "2020-08-06T13:19:57.983475Z",
     "start_time": "2020-08-06T13:19:57.958404Z"
    }
   },
   "outputs": [],
   "source": [
    "assert \"https://mt0.google.com/vt?\" in url\n",
    "assert \"z=10\" in url\n",
    "assert \"lyrs=s\" in url"
   ]
  },
  {
   "cell_type": "markdown",
   "metadata": {},
   "source": [
    "Our previous function comes back with an Object representing the web request. In object oriented programming, we use the .\n",
    "operator to get access to a particular **property** of the object, in this case, the actual image at that URL is in the `content` property. It's a big file, so I'll just get the first few bytes:"
   ]
  },
  {
   "cell_type": "code",
   "execution_count": 16,
   "metadata": {
    "ExecuteTime": {
     "end_time": "2020-08-06T13:19:58.975295Z",
     "start_time": "2020-08-06T13:19:58.950262Z"
    }
   },
   "outputs": [
    {
     "data": {
      "text/plain": [
       "b'\\xff\\xd8\\xff\\xe0\\x00\\x10JFIF\\x00\\x01\\x01\\x00\\x00\\x01\\x00\\x01\\x00\\x00'"
      ]
     },
     "execution_count": 16,
     "metadata": {},
     "output_type": "execute_result"
    }
   ],
   "source": [
    "map_response.content[0:20]"
   ]
  },
  {
   "cell_type": "markdown",
   "metadata": {},
   "source": [
    "### Displaying results"
   ]
  },
  {
   "cell_type": "markdown",
   "metadata": {},
   "source": [
    "I'll need to do this a lot, so I'll wrap up our previous function in another function, to save on typing."
   ]
  },
  {
   "cell_type": "code",
   "execution_count": 17,
   "metadata": {
    "ExecuteTime": {
     "end_time": "2020-08-06T13:20:00.271555Z",
     "start_time": "2020-08-06T13:20:00.245007Z"
    }
   },
   "outputs": [],
   "source": [
    "def map_at(*args, **kwargs):\n",
    "    return request_map_at(*args, **kwargs).content"
   ]
  },
  {
   "cell_type": "markdown",
   "metadata": {},
   "source": [
    "I can use a library that comes with Jupyter notebook to display the image. Being able to work with variables which contain images, or documents, or any other weird kind of data, just as easily as we can with numbers or letters, is one of the really powerful things about modern programming languages like Python. "
   ]
  },
  {
   "cell_type": "code",
   "execution_count": 18,
   "metadata": {
    "ExecuteTime": {
     "end_time": "2020-08-06T13:20:01.381826Z",
     "start_time": "2020-08-06T13:20:01.157736Z"
    }
   },
   "outputs": [],
   "source": [
    "import IPython\n",
    "map_png = map_at(*london_location)"
   ]
  },
  {
   "cell_type": "code",
   "execution_count": 19,
   "metadata": {
    "ExecuteTime": {
     "end_time": "2020-08-06T13:20:01.579257Z",
     "start_time": "2020-08-06T13:20:01.563953Z"
    }
   },
   "outputs": [
    {
     "name": "stdout",
     "output_type": "stream",
     "text": [
      "The type of our map result is actually a:  <class 'bytes'>\n"
     ]
    }
   ],
   "source": [
    "print(\"The type of our map result is actually a: \", type(map_png))"
   ]
  },
  {
   "cell_type": "code",
   "execution_count": 20,
   "metadata": {
    "ExecuteTime": {
     "end_time": "2020-08-06T13:20:02.240993Z",
     "start_time": "2020-08-06T13:20:02.206441Z"
    }
   },
   "outputs": [
    {
     "data": {
      "image/jpeg": "[encoded data removed]",
      "text/plain": [
       "<IPython.core.display.Image object>"
      ]
     },
     "execution_count": 20,
     "metadata": {},
     "output_type": "execute_result"
    }
   ],
   "source": [
    "IPython.core.display.Image(map_png)"
   ]
  },
  {
   "cell_type": "code",
   "execution_count": 21,
   "metadata": {
    "ExecuteTime": {
     "end_time": "2020-08-06T13:20:05.482177Z",
     "start_time": "2020-08-06T13:20:02.711707Z"
    }
   },
   "outputs": [
    {
     "data": {
      "image/jpeg": "[encoded data removed]",
      "text/plain": [
       "<IPython.core.display.Image object>"
      ]
     },
     "execution_count": 21,
     "metadata": {},
     "output_type": "execute_result"
    }
   ],
   "source": [
    "IPython.core.display.Image(map_at(*geolocate(\"New Delhi\")))"
   ]
  },
  {
   "cell_type": "markdown",
   "metadata": {},
   "source": [
    "### Manipulating Numbers"
   ]
  },
  {
   "cell_type": "markdown",
   "metadata": {},
   "source": [
    "Now we get to our research project: we want to find out how urbanised the world is, based on satellite imagery, along a line\n",
    "    between two cites. We expect the satellite image to be greener in the countryside."
   ]
  },
  {
   "cell_type": "markdown",
   "metadata": {},
   "source": [
    "We'll use lots more libraries to count how much green there is in an image."
   ]
  },
  {
   "cell_type": "code",
   "execution_count": 22,
   "metadata": {
    "ExecuteTime": {
     "end_time": "2020-08-06T13:20:08.317549Z",
     "start_time": "2020-08-06T13:20:08.278527Z"
    }
   },
   "outputs": [],
   "source": [
    "from io import BytesIO # A library to convert between files and strings\n",
    "import numpy as np # A library to deal with matrices\n",
    "import imageio # A library to deal with images"
   ]
  },
  {
   "cell_type": "markdown",
   "metadata": {},
   "source": [
    "Let's define what we count as green:"
   ]
  },
  {
   "cell_type": "code",
   "execution_count": 23,
   "metadata": {
    "ExecuteTime": {
     "end_time": "2020-08-06T13:20:09.870681Z",
     "start_time": "2020-08-06T13:20:09.845921Z"
    }
   },
   "outputs": [],
   "source": [
    "def is_green(pixels):\n",
    "    threshold = 1.1\n",
    "    greener_than_red = pixels[:,:,1] > threshold * pixels[:,:,0]\n",
    "    greener_than_blue = pixels[:,:,1] > threshold * pixels[:,:,2]\n",
    "    green = np.logical_and(greener_than_red, greener_than_blue) \n",
    "    return green"
   ]
  },
  {
   "cell_type": "markdown",
   "metadata": {},
   "source": [
    "This code has assumed we have our pixel data for the image as a $256 \\times 256 \\times 3$ 3-d matrix,\n",
    "with each of the three layers being red, green, and blue pixels.\n",
    "\n",
    "We find out which pixels are green by comparing, element-by-element, the middle (green, number 1) layer to the top (red, zero) and bottom (blue, 2)"
   ]
  },
  {
   "cell_type": "markdown",
   "metadata": {},
   "source": [
    "Now we just need to parse in our data, which is a PNG image, and turn it into our matrix format:"
   ]
  },
  {
   "cell_type": "code",
   "execution_count": 24,
   "metadata": {
    "ExecuteTime": {
     "end_time": "2020-08-06T13:20:12.496682Z",
     "start_time": "2020-08-06T13:20:12.471311Z"
    }
   },
   "outputs": [],
   "source": [
    "def count_green_in_png(data):\n",
    "    f = BytesIO(data)\n",
    "    pixels = imageio.imread(f) # Get our PNG image as a numpy array\n",
    "    return np.sum(is_green(pixels))"
   ]
  },
  {
   "cell_type": "code",
   "execution_count": 25,
   "metadata": {
    "ExecuteTime": {
     "end_time": "2020-08-06T13:20:13.827153Z",
     "start_time": "2020-08-06T13:20:13.143679Z"
    }
   },
   "outputs": [
    {
     "name": "stdout",
     "output_type": "stream",
     "text": [
      "13903\n"
     ]
    }
   ],
   "source": [
    "print(count_green_in_png( map_at(*london_location) ))"
   ]
  },
  {
   "cell_type": "markdown",
   "metadata": {},
   "source": [
    "We'll also need a function to get an evenly spaced set of places between two endpoints:"
   ]
  },
  {
   "cell_type": "code",
   "execution_count": 26,
   "metadata": {
    "ExecuteTime": {
     "end_time": "2020-08-06T13:20:14.594573Z",
     "start_time": "2020-08-06T13:20:14.568633Z"
    }
   },
   "outputs": [],
   "source": [
    "def location_sequence(start, end, steps):\n",
    "    lats = np.linspace(start[0], end[0], steps) # \"Linearly spaced\" data\n",
    "    longs = np.linspace(start[1], end[1], steps)\n",
    "    return np.vstack([lats, longs]).transpose()"
   ]
  },
  {
   "cell_type": "code",
   "execution_count": 27,
   "metadata": {
    "ExecuteTime": {
     "end_time": "2020-08-06T13:20:16.691892Z",
     "start_time": "2020-08-06T13:20:15.151525Z"
    }
   },
   "outputs": [
    {
     "data": {
      "text/plain": [
       "array([[ 5.15073584e+01, -1.27752093e-01],\n",
       "       [ 5.16818652e+01, -6.53590803e-02],\n",
       "       [ 5.18563720e+01, -2.96606735e-03],\n",
       "       [ 5.20308788e+01,  5.94269456e-02],\n",
       "       [ 5.22053855e+01,  1.21819958e-01]])"
      ]
     },
     "execution_count": 27,
     "metadata": {},
     "output_type": "execute_result"
    }
   ],
   "source": [
    "location_sequence(geolocate(\"London\"), geolocate(\"Cambridge\"), 5)"
   ]
  },
  {
   "cell_type": "markdown",
   "metadata": {},
   "source": [
    "### Creating Images"
   ]
  },
  {
   "cell_type": "markdown",
   "metadata": {},
   "source": [
    "We should display the green content to check our work:"
   ]
  },
  {
   "cell_type": "code",
   "execution_count": 28,
   "metadata": {
    "ExecuteTime": {
     "end_time": "2020-08-06T13:20:17.787311Z",
     "start_time": "2020-08-06T13:20:17.759802Z"
    }
   },
   "outputs": [],
   "source": [
    "def show_green_in_png(data):\n",
    "    pixels = imageio.imread(BytesIO(data)) # Get our PNG image as rows of pixels\n",
    "    green = is_green(pixels)\n",
    "\n",
    "    out = green[:, :, np.newaxis] * np.array([0, 1, 0])[np.newaxis, np.newaxis, :]    \n",
    "\n",
    "    buffer = BytesIO()\n",
    "    result = imageio.imwrite(buffer, out, format='png')\n",
    "    return buffer.getvalue()"
   ]
  },
  {
   "cell_type": "code",
   "execution_count": 29,
   "metadata": {
    "ExecuteTime": {
     "end_time": "2020-08-06T13:20:18.685170Z",
     "start_time": "2020-08-06T13:20:18.463001Z"
    }
   },
   "outputs": [
    {
     "data": {
      "image/jpeg": "[encoded data removed]",
      "text/plain": [
       "<IPython.core.display.Image object>"
      ]
     },
     "execution_count": 29,
     "metadata": {},
     "output_type": "execute_result"
    }
   ],
   "source": [
    "IPython.core.display.Image(\n",
    "    map_at(*london_location, satellite=True)\n",
    ")"
   ]
  },
  {
   "cell_type": "code",
   "execution_count": 30,
   "metadata": {
    "ExecuteTime": {
     "end_time": "2020-08-06T13:20:19.645739Z",
     "start_time": "2020-08-06T13:20:19.295348Z"
    }
   },
   "outputs": [
    {
     "name": "stderr",
     "output_type": "stream",
     "text": [
      "Lossy conversion from int64 to uint8. Range [0, 1]. Convert image to uint8 prior to saving to suppress this warning.\n"
     ]
    },
    {
     "data": {
      "image/png": "[encoded data removed]",
      "text/plain": [
       "<IPython.core.display.Image object>"
      ]
     },
     "execution_count": 30,
     "metadata": {},
     "output_type": "execute_result"
    }
   ],
   "source": [
    "IPython.core.display.Image(\n",
    "    show_green_in_png(\n",
    "        map_at(\n",
    "            *london_location,\n",
    "            satellite=True)))"
   ]
  },
  {
   "cell_type": "markdown",
   "metadata": {},
   "source": [
    "### Looping"
   ]
  },
  {
   "cell_type": "markdown",
   "metadata": {},
   "source": [
    "We can loop over each element in out list of coordinates, and get a map for that place:"
   ]
  },
  {
   "cell_type": "code",
   "execution_count": 31,
   "metadata": {
    "ExecuteTime": {
     "end_time": "2020-08-06T13:20:23.149792Z",
     "start_time": "2020-08-06T13:20:20.679565Z"
    }
   },
   "outputs": [
    {
     "data": {
      "image/jpeg": "[encoded data removed]",
      "text/plain": [
       "<IPython.core.display.Image object>"
      ]
     },
     "metadata": {},
     "output_type": "display_data"
    },
    {
     "data": {
      "image/jpeg": "[encoded data removed]",
      "text/plain": [
       "<IPython.core.display.Image object>"
      ]
     },
     "metadata": {},
     "output_type": "display_data"
    },
    {
     "data": {
      "image/jpeg": "[encoded data removed]",
      "text/plain": [
       "<IPython.core.display.Image object>"
      ]
     },
     "metadata": {},
     "output_type": "display_data"
    },
    {
     "data": {
      "image/jpeg": "[encoded data removed]",
      "text/plain": [
       "<IPython.core.display.Image object>"
      ]
     },
     "metadata": {},
     "output_type": "display_data"
    }
   ],
   "source": [
    "for location in location_sequence(geolocate(\"London\"), \n",
    "                                  geolocate(\"Birmingham\"),\n",
    "                                  4):\n",
    "    IPython.core.display.display( \n",
    "        IPython.core.display.Image(map_at(*location)))"
   ]
  },
  {
   "cell_type": "markdown",
   "metadata": {},
   "source": [
    "So now we can count the green from London to Birmingham!"
   ]
  },
  {
   "cell_type": "code",
   "execution_count": 32,
   "metadata": {
    "ExecuteTime": {
     "end_time": "2020-08-06T13:20:26.161391Z",
     "start_time": "2020-08-06T13:20:23.253480Z"
    }
   },
   "outputs": [
    {
     "data": {
      "text/plain": [
       "[13903, 13903, 12954, 12954, 17691, 12352, 12919, 19399, 19399, 24053]"
      ]
     },
     "execution_count": 32,
     "metadata": {},
     "output_type": "execute_result"
    }
   ],
   "source": [
    "[count_green_in_png(map_at(*location))\n",
    "            for location in \n",
    "                 location_sequence(geolocate(\"London\"),\n",
    "                                   geolocate(\"Birmingham\"),\n",
    "                                   10)]"
   ]
  },
  {
   "cell_type": "markdown",
   "metadata": {
    "collapsed": true
   },
   "source": [
    "### Plotting graphs"
   ]
  },
  {
   "cell_type": "markdown",
   "metadata": {},
   "source": [
    "Let's plot a graph."
   ]
  },
  {
   "cell_type": "code",
   "execution_count": 33,
   "metadata": {
    "ExecuteTime": {
     "end_time": "2020-08-06T13:20:26.513999Z",
     "start_time": "2020-08-06T13:20:26.267512Z"
    }
   },
   "outputs": [],
   "source": [
    "import matplotlib.pyplot as plt\n",
    "%matplotlib inline"
   ]
  },
  {
   "cell_type": "code",
   "execution_count": 34,
   "metadata": {
    "ExecuteTime": {
     "end_time": "2020-08-06T13:20:30.250445Z",
     "start_time": "2020-08-06T13:20:26.602993Z"
    }
   },
   "outputs": [
    {
     "data": {
      "text/plain": [
       "[<matplotlib.lines.Line2D at 0x7f3abb078c50>]"
      ]
     },
     "execution_count": 34,
     "metadata": {},
     "output_type": "execute_result"
    },
    {
     "data": {
      "image/png": "[encoded data removed]",
      "text/plain": [
       "<Figure size 432x288 with 1 Axes>"
      ]
     },
     "metadata": {
      "needs_background": "light"
     },
     "output_type": "display_data"
    }
   ],
   "source": [
    "plt.plot([count_green_in_png(map_at(*location))\n",
    "            for location in \n",
    "              location_sequence(geolocate(\"London\"), \n",
    "                                geolocate(\"Birmingham\"), \n",
    "                                10)])"
   ]
  },
  {
   "cell_type": "markdown",
   "metadata": {},
   "source": [
    "From a research perspective, of course, this code needs a lot of work. But I hope the power of using programming is clear.\n"
   ]
  },
  {
   "cell_type": "markdown",
   "metadata": {},
   "source": [
    "### Composing Program Elements"
   ]
  },
  {
   "cell_type": "markdown",
   "metadata": {},
   "source": [
    "We built little pieces of useful code, to:\n",
    "\n",
    "* Find latitude and longitude of a place\n",
    "* Get a map at a given latitude and longitude\n",
    "* Decide whether a (red,green,blue) triple is mainly green\n",
    "* Decide whether each pixel is mainly green\n",
    "* Plot a new image showing the green places\n",
    "* Find evenly spaced points between two places"
   ]
  },
  {
   "cell_type": "markdown",
   "metadata": {},
   "source": [
    "By putting these together, we can make a function which can plot this graph automatically for any two places:"
   ]
  },
  {
   "cell_type": "code",
   "execution_count": 35,
   "metadata": {
    "ExecuteTime": {
     "end_time": "2020-08-06T13:20:35.092243Z",
     "start_time": "2020-08-06T13:20:35.062361Z"
    }
   },
   "outputs": [],
   "source": [
    "def green_between(start, end,steps):\n",
    "    return [count_green_in_png( map_at(*location) )\n",
    "            for location in location_sequence(\n",
    "                            geolocate(start),\n",
    "                            geolocate(end),\n",
    "                            steps)]"
   ]
  },
  {
   "cell_type": "code",
   "execution_count": 36,
   "metadata": {
    "ExecuteTime": {
     "end_time": "2020-08-06T13:20:40.927630Z",
     "start_time": "2020-08-06T13:20:35.514609Z"
    }
   },
   "outputs": [
    {
     "data": {
      "text/plain": [
       "[<matplotlib.lines.Line2D at 0x7f3ab8d297d0>]"
      ]
     },
     "execution_count": 36,
     "metadata": {},
     "output_type": "execute_result"
    },
    {
     "data": {
      "image/png": "[encoded data removed]",
      "text/plain": [
       "<Figure size 432x288 with 1 Axes>"
      ]
     },
     "metadata": {
      "needs_background": "light"
     },
     "output_type": "display_data"
    }
   ],
   "source": [
    "plt.plot(green_between('New York', 'Chicago', 20))"
   ]
  },
  {
   "cell_type": "markdown",
   "metadata": {
    "collapsed": true
   },
   "source": [
    "And that's it! We've covered, very very quickly, the majority of the python language, and much of the theory of software engineering."
   ]
  },
  {
   "cell_type": "markdown",
   "metadata": {},
   "source": [
    "Now we'll go back, carefully, through all the concepts we touched on, and learn how to use them properly ourselves."
   ]
  }
 ],
 "metadata": {
  "jekyll": {
   "display_name": "An example program"
  },
  "kernelspec": {
   "display_name": "Python 3",
   "language": "python",
   "name": "python3"
  },
  "language_info": {
   "codemirror_mode": {
    "name": "ipython",
    "version": 3
   },
   "file_extension": ".py",
   "mimetype": "text/x-python",
   "name": "python",
   "nbconvert_exporter": "python",
   "pygments_lexer": "ipython3",
   "version": "3.7.5"
  },
  "toc": {
   "base_numbering": 1,
   "nav_menu": {},
   "number_sections": true,
   "sideBar": true,
   "skip_h1_title": false,
   "title_cell": "Table of Contents",
   "title_sidebar": "Contents",
   "toc_cell": false,
   "toc_position": {},
   "toc_section_display": true,
   "toc_window_display": true
  },
  "varInspector": {
   "cols": {
    "lenName": 16,
    "lenType": 16,
    "lenVar": 40
   },
   "kernels_config": {
    "python": {
     "delete_cmd_postfix": "",
     "delete_cmd_prefix": "del ",
     "library": "var_list.py",
     "varRefreshCmd": "print(var_dic_list())"
    },
    "r": {
     "delete_cmd_postfix": ") ",
     "delete_cmd_prefix": "rm(",
     "library": "var_list.r",
     "varRefreshCmd": "cat(var_dic_list()) "
    }
   },
   "types_to_exclude": [
    "module",
    "function",
    "builtin_function_or_method",
    "instance",
    "_Feature"
   ],
   "window_display": false
  }
 },
 "nbformat": 4,
 "nbformat_minor": 1
}
