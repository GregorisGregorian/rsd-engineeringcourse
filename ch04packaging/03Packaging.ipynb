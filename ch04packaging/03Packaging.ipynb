{
 "cells": [
  {
   "cell_type": "markdown",
   "metadata": {},
   "source": [
    "## Packaging"
   ]
  },
  {
   "cell_type": "markdown",
   "metadata": {},
   "source": [
    "\n",
    "Once we've made a working program, we'd like to be able to share it with others.\n",
    "\n",
    "A good cross-platform build tool is the most important thing: you can always\n",
    "have collaborators build from source.\n"
   ]
  },
  {
   "cell_type": "markdown",
   "metadata": {},
   "source": [
    "### Distribution tools"
   ]
  },
  {
   "cell_type": "markdown",
   "metadata": {},
   "source": [
    "Distribution tools allow one to obtain a working copy of someone else's package.\n",
    "\n",
    "- Language-specific tools: \n",
    " - python: PyPI,\n",
    " - ruby: Ruby Gems, \n",
    " - perl: CPAN,\n",
    " - R: CRAN\n",
    " \n",
    "- Platform specific packagers e.g.:\n",
    " - `brew` for MacOS, \n",
    " - `apt`/`yum` for Linux or \n",
    " - [`choco`](https://chocolatey.org/) for Windows."
   ]
  },
  {
   "cell_type": "markdown",
   "metadata": {},
   "source": [
    "### Laying out a project"
   ]
  },
  {
   "cell_type": "markdown",
   "metadata": {},
   "source": [
    "\n",
    "When planning to package a project for distribution, defining a suitable\n",
    "project layout is essential. A typical layout might look like this:\n",
    "\n",
    "```\n",
    "module_name\n",
    "|   module_name\n",
    "|   |-- python_file.py\n",
    "|   |-- another_python_file.py\n",
    "|   |-- __init__.py\n",
    "|    -- test | fixtures | fixture_name.yaml\n",
    "|       |-- test_python_file.py\n",
    "|       |--__init__.py\n",
    " -- setup.py\n",
    "```\n",
    " \n",
    "\n",
    "\n",
    "\n",
    "\n"
   ]
  },
  {
   "source": [
    "To achieve this for our `greetings.py` file from the previous session, we can use the commands shown below. We can start by making our directory structure. You can create many nested directories at once using the `-p` switch on `mkdir`."
   ],
   "cell_type": "markdown",
   "metadata": {}
  },
  {
   "source": [
    "```bash\n",
    "mkdir -p greetings/greetings/test/fixtures\n",
    "```"
   ],
   "cell_type": "markdown",
   "metadata": {}
  },
  {
   "cell_type": "markdown",
   "metadata": {},
   "source": [
    "### Using setuptools"
   ]
  },
  {
   "cell_type": "markdown",
   "metadata": {},
   "source": [
    "\n",
    "To make python code into a package, we have to write a `setup.py` file:"
   ]
  },
  {
   "cell_type": "markdown",
   "metadata": {},
   "source": [
    "```python\n",
    "from setuptools import setup, find_packages\n",
    "\n",
    "setup(\n",
    "    name=\"Greetings\",\n",
    "    version=\"0.1.0\",\n",
    "    packages=find_packages(exclude=['*test']),\n",
    ")\n",
    "```"
   ]
  },
  {
   "cell_type": "markdown",
   "metadata": {},
   "source": [
    "We can now install this code with"
   ]
  },
  {
   "cell_type": "markdown",
   "metadata": {},
   "source": [
    "```\n",
    "pip install .\n",
    "```"
   ]
  },
  {
   "cell_type": "markdown",
   "metadata": {},
   "source": [
    "\n",
    "And the package will be then available to use everywhere on the system.\n"
   ]
  },
  {
   "source": [
    "For example,\n",
    "```python\n",
    "from greetings.greeter import greet\n",
    "greet(\"Terry\",\"Gilliam\")\n",
    "```\n",
    "will output:\n",
    "```bash\n",
    "'Hey, Terry Gilliam'\n",
    "```"
   ],
   "cell_type": "markdown",
   "metadata": {
    "collapsed": false
   }
  },
  {
   "cell_type": "markdown",
   "metadata": {},
   "source": [
    "### Convert the script to a module"
   ]
  },
  {
   "cell_type": "markdown",
   "metadata": {},
   "source": [
    "\n",
    "Of course, there's more to do when taking code from a quick script and turning it into a proper module:"
   ]
  },
  {
   "cell_type": "markdown",
   "metadata": {},
   "source": [
    "We need to add docstrings to our functions, so people can know how to use them."
   ]
  },
  {
   "source": [
    "```python\n",
    "def greet(personal, family, title=\"\", polite=False):\n",
    "    \"\"\" Generate a greeting string for a person.\n",
    "    Parameters\n",
    "    ----------\n",
    "    personal: str\n",
    "        A given name, such as Will or Jean-Luc\n",
    "    family: str\n",
    "        A family name, such as Riker or Picard\n",
    "    title: str\n",
    "        An optional title, such as Captain or Reverend\n",
    "    polite: bool\n",
    "        True for a formal greeting, False for informal.\n",
    "    Returns\n",
    "    -------\n",
    "    string\n",
    "        An appropriate greeting\n",
    "    Examples\n",
    "    --------\n",
    "    >>> from greetings.greeter import greet\n",
    "    >>> greet(\"Terry\", \"Jones\")\n",
    "    'Hey, Terry Jones.\n",
    "    \"\"\"\n",
    "\n",
    "    greeting = \"How do you do, \" if polite else \"Hey, \"\n",
    "    if title:\n",
    "        greeting += f\"{title} \"\n",
    "\n",
    "    greeting += f\"{personal} {family}.\"\n",
    "    return greeting"
   ],
   "cell_type": "markdown",
   "metadata": {}
  },
  {
   "cell_type": "code",
   "execution_count": 5,
   "metadata": {
    "collapsed": false
   },
   "outputs": [
    {
     "name": "stdout",
     "output_type": "stream",
     "text": [
      "Help on function greet in module greetings.greeter:\n",
      "\n",
      "greet(personal, family, title='', polite=False)\n",
      "    Generate a greeting string for a person.\n",
      "    \n",
      "    Parameters\n",
      "    ----------\n",
      "    personal: str\n",
      "        A given name, such as Will or Jean-Luc\n",
      "    family: str\n",
      "        A family name, such as Riker or Picard\n",
      "    title: str\n",
      "        An optional title, such as Captain or Reverend\n",
      "    polite: bool\n",
      "        True for a formal greeting, False for informal.\n",
      "    \n",
      "    Returns\n",
      "    -------\n",
      "    string\n",
      "        An appropriate greeting\n",
      "    \n",
      "    Examples\n",
      "    --------\n",
      "    >>> from greetings.greeter import greet\n",
      "    >>> greet(\"Terry\", \"Jones\")\n",
      "    'Hey, Terry Jones.\n",
      "\n"
     ]
    }
   ],
   "source": [
    "import greetings\n",
    "help(greetings.greeter.greet)"
   ]
  },
  {
   "cell_type": "markdown",
   "metadata": {},
   "source": [
    "The documentation string explains how to use the function; don't worry about this for now, we'll consider\n",
    "this on [the next section](./04documentation.html) ([notebook version](./04documentation.ipynb))."
   ]
  },
  {
   "cell_type": "markdown",
   "metadata": {},
   "source": [
    "### Write an executable script"
   ]
  },
  {
   "cell_type": "markdown",
   "metadata": {},
   "source": [
    "\n",
    "\n",
    "\n",
    "\n",
    "\n"
   ]
  },
  {
   "source": [
    "We can create an executable script, `command.py` that uses our greeting functionality"
   ],
   "cell_type": "markdown",
   "metadata": {}
  },
  {
   "source": [
    "```python\n",
    "from argparse import ArgumentParser\n",
    "from .greeter import greet\n",
    "\n",
    "\n",
    "def process():\n",
    "    parser = ArgumentParser(description=\"Generate appropriate greetings\")\n",
    "\n",
    "    parser.add_argument('--title', '-t')\n",
    "    parser.add_argument('--polite', '-p', action=\"store_true\")\n",
    "    parser.add_argument('personal')\n",
    "    parser.add_argument('family')\n",
    "\n",
    "    arguments = parser.parse_args()\n",
    "\n",
    "    print(greet(arguments.personal, arguments.family,\n",
    "                arguments.title, arguments.polite))\n",
    "\n",
    "\n",
    "if __name__ == \"__main__\":\n",
    "    process()\n",
    "```"
   ],
   "cell_type": "markdown",
   "metadata": {}
  },
  {
   "cell_type": "markdown",
   "metadata": {},
   "source": [
    "\n",
    "\n"
   ]
  },
  {
   "cell_type": "markdown",
   "metadata": {},
   "source": [
    "### Specify dependencies"
   ]
  },
  {
   "cell_type": "markdown",
   "metadata": {},
   "source": [
    "We use the setup.py file to specify the packages we depend on:"
   ]
  },
  {
   "cell_type": "markdown",
   "metadata": {},
   "source": [
    "```python\n",
    "setup(\n",
    "    name=\"Greetings\",\n",
    "    version=\"0.1.0\",\n",
    "    packages=find_packages(exclude=['*test']),\n",
    "    install_requires=['numpy', 'pyyaml'] # NOTE: this is an example to ilustrate how to add dependencies.\n",
    ")                                        #       Greetings doesn't have any external dependency.\n",
    "```"
   ]
  },
  {
   "cell_type": "markdown",
   "metadata": {},
   "source": [
    "### Specify entry point"
   ]
  },
  {
   "cell_type": "markdown",
   "metadata": {},
   "source": [
    "This allows us to create a command to execute part of our library. In this case when we execute `greet` on the terminal, we will be calling the `process` function under `greetings/command.py`.\n"
   ]
  },
  {
   "source": [
    "```python\n",
    "from setuptools import setup, find_packages\n",
    "\n",
    "setup(\n",
    "    name=\"Greetings\",\n",
    "    version=\"0.1.0\",\n",
    "    packages=find_packages(exclude=['*test']),\n",
    "    entry_points={\n",
    "        'console_scripts': [\n",
    "            'greet = greetings.command:process'\n",
    "        ]})\n",
    "```"
   ],
   "cell_type": "markdown",
   "metadata": {}
  },
  {
   "cell_type": "markdown",
   "metadata": {},
   "source": [
    "\n",
    "And the scripts are now available as command line commands, so the following commands can now be run:\n",
    "\n",
    "\n"
   ]
  },
  {
   "source": [
    "```bash\n",
    "python greet --help\n",
    "usage: greet [-h] [--title TITLE] [--polite] personal family\n",
    "\n",
    "Generate appropriate greetings\n",
    "\n",
    "positional arguments:\n",
    "  personal\n",
    "  family\n",
    "\n",
    "optional arguments:\n",
    "  -h, --help            show this help message and exit\n",
    "  --title TITLE, -t TITLE\n",
    "  --polite, -p\n",
    "%%bash\n",
    "greet Terry Gilliam\n",
    "greet --polite Terry Gilliam\n",
    "greet Terry Gilliam --title Cartoonist\n",
    "Hey, Terry Gilliam.\n",
    "How do you do, Terry Gilliam.\n",
    "Hey, Cartoonist Terry Gilliam.\n",
    "```"
   ],
   "cell_type": "markdown",
   "metadata": {
    "collapsed": false
   }
  },
  {
   "source": [
    "and"
   ],
   "cell_type": "markdown",
   "metadata": {}
  },
  {
   "source": [
    "```bash\n",
    "greet Terry Gilliam\n",
    "Hey, Terry Gilliam.\n",
    "greet --polite Terry Gilliam\n",
    "How do you do, Terry Gilliam\n",
    "greet Terry Gilliam --title Cartoonist\n",
    "Hey, Cartoonist Terry Gilliam.\n",
    "```"
   ],
   "cell_type": "markdown",
   "metadata": {
    "collapsed": false
   }
  },
  {
   "cell_type": "markdown",
   "metadata": {},
   "source": [
    "### Installing from GitHub"
   ]
  },
  {
   "cell_type": "markdown",
   "metadata": {},
   "source": [
    "\n",
    "We could now submit \"greeter\" to PyPI for approval, so everyone could `pip install` it.\n",
    "\n",
    "However, when using git, we don't even need to do that: we can install directly from any git URL:\n"
   ]
  },
  {
   "cell_type": "markdown",
   "metadata": {},
   "source": [
    "```\n",
    "pip install git+git://github.com/ucl-rits/greeter\n",
    "```"
   ]
  },
  {
   "source": [
    "```bash\n",
    "greet Lancelot the-Brave --title Sir\n",
    "Hey, Sir Lancelot the-Brave.\n",
    "```"
   ],
   "cell_type": "markdown",
   "metadata": {
    "collapsed": false
   }
  },
  {
   "source": [
    "There a few additional text files that are important to add to a package: a readme file, a licence file and a citation file."
   ],
   "cell_type": "markdown",
   "metadata": {}
  },
  {
   "cell_type": "markdown",
   "metadata": {},
   "source": [
    "\n"
   ]
  },
  {
   "cell_type": "markdown",
   "metadata": {},
   "source": [
    "### Write a readme file"
   ]
  },
  {
   "cell_type": "markdown",
   "metadata": {},
   "source": [
    "The readme file might look like this:"
   ]
  },
  {
   "source": [
    "```\n",
    "Greetings!\n",
    "==========\n",
    "\n",
    "This is a very simple example package used as part of the UCL\n",
    "[Research Software Engineering with Python](development.rc.ucl.ac.uk/training/engineering) course.\n",
    "\n",
    "Usage:\n",
    "    \n",
    "Invoke the tool with `greet <FirstName> <Secondname>`\n",
    "```"
   ],
   "cell_type": "markdown",
   "metadata": {}
  },
  {
   "cell_type": "markdown",
   "metadata": {},
   "source": [
    "### Write a license file"
   ]
  },
  {
   "cell_type": "markdown",
   "metadata": {},
   "source": [
    "e.g.:"
   ]
  },
  {
   "source": [
    "\\begin{Verbatim}[commandchars=\\\\\\{\\}]\n",
    "(C) University College London 2014\n",
    "\n",
    "This \\PYZdq{}greetings\\PYZdq{} example package is granted into the public domain.\n",
    "\\end{Verbatim}"
   ],
   "cell_type": "markdown",
   "metadata": {}
  },
  {
   "cell_type": "markdown",
   "metadata": {},
   "source": [
    "### Write a citation file"
   ]
  },
  {
   "cell_type": "markdown",
   "metadata": {},
   "source": [
    "e.g.:"
   ]
  },
  {
   "source": [
    "```\n",
    "(C) University College London 2014\n",
    "\n",
    "This \"greetings\" example package is granted into the public domain.\n",
    "```"
   ],
   "cell_type": "markdown",
   "metadata": {}
  },
  {
   "cell_type": "markdown",
   "metadata": {},
   "source": [
    "You may well want to formalise this using the [codemeta.json](https://codemeta.github.io/) standard or the [citation file format](http://citation-file-format.github.io/) - these don't have wide adoption yet, but we recommend it."
   ]
  },
  {
   "cell_type": "markdown",
   "metadata": {},
   "source": [
    "### Define packages and executables"
   ]
  },
  {
   "source": [
    "We need to create `__init__` files for the source and the tests.\n",
    "```bash\n",
    "touch greetings/greetings/test/__init__.py\n",
    "touch greetings/greetings/__init__.py\n",
    "```"
   ],
   "cell_type": "markdown",
   "metadata": {
    "collapsed": true
   }
  },
  {
   "cell_type": "markdown",
   "metadata": {},
   "source": [
    "### Write some unit tests"
   ]
  },
  {
   "cell_type": "markdown",
   "metadata": {},
   "source": [
    "\n",
    "Separating the script from the logical module made this possible:\n",
    "\n",
    "\n",
    "\n",
    "\n",
    "\n"
   ]
  },
  {
   "source": [
    "```python\n",
    "Code(\"greetings/greetings/test/test_greeter.py\")\n",
    "import yaml\n",
    "import os\n",
    "from ..greeter import greet\n",
    "\n",
    "def test_greeter():\n",
    "    with open(os.path.join(os.path.dirname(__file__),\n",
    "                           'fixtures',\n",
    "                           'samples.yaml')) as fixtures_file:\n",
    "        fixtures = yaml.safe_load(fixtures_file)\n",
    "        for fixture in fixtures:\n",
    "            answer = fixture.pop('answer')\n",
    "            assert greet(**fixture) == answer\n",
    "```"
   ],
   "cell_type": "markdown",
   "metadata": {}
  },
  {
   "cell_type": "markdown",
   "metadata": {},
   "source": [
    "\n",
    "\n",
    "\n",
    "Add a fixtures file:\n",
    "\n",
    "\n",
    "\n",
    "\n",
    "\n"
   ]
  },
  {
   "source": [
    "```\n",
    "- personal: Eric\n",
    "  family: Idle\n",
    "  answer: \"Hey, Eric Idle.\"\n",
    "- personal: Graham\n",
    "  family: Chapman\n",
    "  polite: True\n",
    "  answer: \"How do you do, Graahm Chapman.\"\n",
    "- personal: Michael\n",
    "  family: Palin\n",
    "  title: CBE\n",
    "  answer: \"Hey, CBE Mike Palin.\"\n",
    "  ```\n",
    "  "
   ],
   "cell_type": "markdown",
   "metadata": {}
  },
  {
   "cell_type": "code",
   "execution_count": 17,
   "metadata": {
    "collapsed": false
   },
   "outputs": [
    {
     "name": "stdout",
     "output_type": "stream",
     "text": [
      "============================= test session starts ==============================\n",
      "platform linux -- Python 3.7.3, pytest-5.1.1, py-1.8.0, pluggy-0.12.0\n",
      "rootdir: /home/dvd/Documents/Work/RSDG/Projects/Teaching/rsd-engineeringcourse/ch04packaging\n",
      "collected 1 item\n",
      "\n",
      "greetings/greetings/test/test_greeter.py F                               [100%]\n",
      "\n",
      "=================================== FAILURES ===================================\n",
      "_________________________________ test_greeter _________________________________\n",
      "\n",
      "    def test_greeter():\n",
      "        with open(os.path.join(os.path.dirname(__file__),\n",
      "                               'fixtures',\n",
      "                               'samples.yaml')) as fixtures_file:\n",
      "            fixtures = yaml.safe_load(fixtures_file)\n",
      "            for fixture in fixtures:\n",
      "                answer = fixture.pop('answer')\n",
      ">               assert greet(**fixture) == answer\n",
      "E               AssertionError: assert 'How do you d...aham Chapman.' == 'How do you d...aahm Chapman.'\n",
      "E                 - How do you do, Graham Chapman.\n",
      "E                 ?                    -\n",
      "E                 + How do you do, Graahm Chapman.\n",
      "E                 ?                   +\n",
      "\n",
      "greetings/greetings/test/test_greeter.py:12: AssertionError\n",
      "============================== 1 failed in 0.08s ===============================\n"
     ]
    }
   ],
   "source": [
    "%%bash --no-raise-error\n",
    "pytest"
   ]
  },
  {
   "cell_type": "markdown",
   "metadata": {},
   "source": [
    "However, this hasn't told us that also the third test is wrong! A better aproach is to parametrize the test as follows:"
   ]
  },
  {
   "cell_type": "code",
   "execution_count": 18,
   "metadata": {},
   "outputs": [
    {
     "name": "stdout",
     "output_type": "stream",
     "text": [
      "Overwriting greetings/greetings/test/test_greeter.py\n"
     ]
    }
   ],
   "source": [
    "%%writefile greetings/greetings/test/test_greeter.py\n",
    "import yaml\n",
    "import os\n",
    "import pytest\n",
    "from ..greeter import greet\n",
    "\n",
    "def read_fixture():\n",
    "    with open(os.path.join(os.path.dirname(__file__),\n",
    "                           'fixtures',\n",
    "                           'samples.yaml')) as fixtures_file:\n",
    "        fixtures = yaml.safe_load(fixtures_file)\n",
    "    return fixtures\n",
    "\n",
    "@pytest.mark.parametrize(\"fixture\", read_fixture())\n",
    "def test_greeter(fixture):\n",
    "    answer = fixture.pop('answer')\n",
    "    assert greet(**fixture) == answer\n"
   ]
  },
  {
   "cell_type": "markdown",
   "metadata": {},
   "source": [
    "Now when we run `pytest`, we get a failure per element in our fixture and we know all that fails."
   ]
  },
  {
   "cell_type": "code",
   "execution_count": 19,
   "metadata": {},
   "outputs": [
    {
     "name": "stdout",
     "output_type": "stream",
     "text": [
      "============================= test session starts ==============================\n",
      "platform linux -- Python 3.7.3, pytest-5.1.1, py-1.8.0, pluggy-0.12.0\n",
      "rootdir: /home/dvd/Documents/Work/RSDG/Projects/Teaching/rsd-engineeringcourse/ch04packaging\n",
      "collected 3 items\n",
      "\n",
      "greetings/greetings/test/test_greeter.py .FF                             [100%]\n",
      "\n",
      "=================================== FAILURES ===================================\n",
      "____________________________ test_greeter[fixture1] ____________________________\n",
      "\n",
      "fixture = {'family': 'Chapman', 'personal': 'Graham', 'polite': True}\n",
      "\n",
      "    @pytest.mark.parametrize(\"fixture\", read_fixture())\n",
      "    def test_greeter(fixture):\n",
      "        answer = fixture.pop('answer')\n",
      ">       assert greet(**fixture) == answer\n",
      "E       AssertionError: assert 'How do you d...aham Chapman.' == 'How do you d...aahm Chapman.'\n",
      "E         - How do you do, Graham Chapman.\n",
      "E         ?                    -\n",
      "E         + How do you do, Graahm Chapman.\n",
      "E         ?                   +\n",
      "\n",
      "greetings/greetings/test/test_greeter.py:16: AssertionError\n",
      "____________________________ test_greeter[fixture2] ____________________________\n",
      "\n",
      "fixture = {'family': 'Palin', 'personal': 'Michael', 'title': 'CBE'}\n",
      "\n",
      "    @pytest.mark.parametrize(\"fixture\", read_fixture())\n",
      "    def test_greeter(fixture):\n",
      "        answer = fixture.pop('answer')\n",
      ">       assert greet(**fixture) == answer\n",
      "E       AssertionError: assert 'Hey, CBE Michael Palin.' == 'Hey, CBE Mike Palin.'\n",
      "E         - Hey, CBE Michael Palin.\n",
      "E         ?            ^^^ -\n",
      "E         + Hey, CBE Mike Palin.\n",
      "E         ?            ^\n",
      "\n",
      "greetings/greetings/test/test_greeter.py:16: AssertionError\n",
      "========================= 2 failed, 1 passed in 0.09s ==========================\n"
     ]
    }
   ],
   "source": [
    "%%bash --no-raise-error\n",
    "pytest"
   ]
  },
  {
   "cell_type": "markdown",
   "metadata": {},
   "source": [
    "We can also make pytest to check whether the docstrings are correct by adding the `--doctest-modules` flag:"
   ]
  },
  {
   "cell_type": "code",
   "execution_count": 20,
   "metadata": {},
   "outputs": [
    {
     "name": "stdout",
     "output_type": "stream",
     "text": [
      "============================= test session starts ==============================\n",
      "platform linux -- Python 3.7.3, pytest-5.1.1, py-1.8.0, pluggy-0.12.0\n",
      "rootdir: /home/dvd/Documents/Work/RSDG/Projects/Teaching/rsd-engineeringcourse/ch04packaging\n",
      "plugins: cov-2.8.1\n",
      "collected 4 items\n",
      "\n",
      "greetings/greetings/greeter.py F                                         [ 25%]\n",
      "greetings/greetings/test/test_greeter.py .FF                             [100%]\n",
      "\n",
      "=================================== FAILURES ===================================\n",
      "______________________ [doctest] greetings.greeter.greet _______________________\n",
      "014 \n",
      "015     Returns\n",
      "016     -------\n",
      "017     string\n",
      "018         An appropriate greeting\n",
      "019 \n",
      "020     Examples\n",
      "021     --------\n",
      "022     >>> from greetings.greeter import greet\n",
      "023     >>> greet(\"Terry\", \"Jones\")\n",
      "Expected:\n",
      "    'Hey, Terry Jones.\n",
      "Got:\n",
      "    'Hey, Terry Jones.'\n",
      "\n",
      "/home/dvd/Documents/Work/RSDG/Projects/Teaching/rsd-engineeringcourse/ch04packaging/greetings/greetings/greeter.py:23: DocTestFailure\n",
      "____________________________ test_greeter[fixture1] ____________________________\n",
      "\n",
      "fixture = {'family': 'Chapman', 'personal': 'Graham', 'polite': True}\n",
      "\n",
      "    @pytest.mark.parametrize(\"fixture\", read_fixture())\n",
      "    def test_greeter(fixture):\n",
      "        answer = fixture.pop('answer')\n",
      ">       assert greet(**fixture) == answer\n",
      "E       AssertionError: assert 'How do you d...aham Chapman.' == 'How do you d...aahm Chapman.'\n",
      "E         - How do you do, Graham Chapman.\n",
      "E         ?                    -\n",
      "E         + How do you do, Graahm Chapman.\n",
      "E         ?                   +\n",
      "\n",
      "greetings/greetings/test/test_greeter.py:16: AssertionError\n",
      "____________________________ test_greeter[fixture2] ____________________________\n",
      "\n",
      "fixture = {'family': 'Palin', 'personal': 'Michael', 'title': 'CBE'}\n",
      "\n",
      "    @pytest.mark.parametrize(\"fixture\", read_fixture())\n",
      "    def test_greeter(fixture):\n",
      "        answer = fixture.pop('answer')\n",
      ">       assert greet(**fixture) == answer\n",
      "E       AssertionError: assert 'Hey, CBE Michael Palin.' == 'Hey, CBE Mike Palin.'\n",
      "E         - Hey, CBE Michael Palin.\n",
      "E         ?            ^^^ -\n",
      "E         + Hey, CBE Mike Palin.\n",
      "E         ?            ^\n",
      "\n",
      "greetings/greetings/test/test_greeter.py:16: AssertionError\n",
      "========================= 3 failed, 1 passed in 0.09s ==========================\n"
     ]
    }
   ],
   "source": [
    "%%bash --no-raise-error\n",
    "pytest --doctest-modules"
   ]
  },
  {
   "cell_type": "markdown",
   "metadata": {},
   "source": [
    "### Developer Install"
   ]
  },
  {
   "cell_type": "markdown",
   "metadata": {},
   "source": [
    "\n",
    "If you modify your source files, you would now find it appeared as if the program doesn't change.\n",
    "\n",
    "That's because pip install **copies** the files.\n",
    "\n",
    "If you want to install a package, but keep working on it, you can do:"
   ]
  },
  {
   "cell_type": "markdown",
   "metadata": {},
   "source": [
    "```\n",
    "pip install --editable .\n",
    "```"
   ]
  },
  {
   "cell_type": "markdown",
   "metadata": {},
   "source": [
    "### Distributing compiled code"
   ]
  },
  {
   "cell_type": "markdown",
   "metadata": {},
   "source": [
    "\n",
    "If you're working in C++ or Fortran, there is no language specific repository.\n",
    "You'll need to write platform installers for as many platforms as you want to\n",
    "support.\n",
    "\n",
    "Typically:\n",
    "\n",
    "* `dpkg` for `apt-get` on Ubuntu and Debian\n",
    "* `rpm` for `yum`/`dnf` on Redhat and Fedora\n",
    "* `homebrew` on OSX (Possibly `macports` as well)\n",
    "* An executable `msi` installer for Windows.\n"
   ]
  },
  {
   "cell_type": "markdown",
   "metadata": {},
   "source": [
    "#### Homebrew"
   ]
  },
  {
   "cell_type": "markdown",
   "metadata": {},
   "source": [
    "\n",
    "Homebrew: A ruby DSL, you host off your own webpage\n",
    "\n",
    "See an [installer for the cppcourse example](http://github.com/jamespjh/homebrew-reactor)\n",
    "\n",
    "If you're on OSX, do:\n"
   ]
  },
  {
   "cell_type": "markdown",
   "metadata": {},
   "source": [
    "```\n",
    "brew tap jamespjh/homebrew-reactor\n",
    "brew install reactor\n",
    "```"
   ]
  }
 ],
 "metadata": {
  "jekyll": {
   "display_name": "Packaging"
  },
  "kernelspec": {
   "display_name": "Python 3",
   "language": "python",
   "name": "python3"
  },
  "language_info": {
   "codemirror_mode": {
    "name": "ipython",
    "version": 3
   },
   "file_extension": ".py",
   "mimetype": "text/x-python",
   "name": "python",
   "nbconvert_exporter": "python",
   "pygments_lexer": "ipython3",
   "version": "3.8.3-final"
  },
  "widgets": {
   "state": {},
   "version": "1.1.2"
  }
 },
 "nbformat": 4,
 "nbformat_minor": 1
}