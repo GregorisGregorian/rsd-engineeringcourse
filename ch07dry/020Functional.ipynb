{
 "cells": [
  {
   "cell_type": "markdown",
   "metadata": {},
   "source": [
    "## Functional programming"
   ]
  },
  {
   "cell_type": "markdown",
   "metadata": {},
   "source": [
    "We have previously seen the object-oriented style of programming, and how to organise our code according to it using objects, classes and inheritance. While widely-adopted and very useful, this is not the only way of writing code. The [*functional paradigm*](https://en.wikipedia.org/wiki/Functional_programming), as the name suggests, emphasises functions as building blocks of programs.\n",
    "\n",
    "Understanding to think in a functional programming style is almost as\n",
    "important as object orientation for building DRY, clear scientific software,\n",
    "and is just as conceptually difficult.\n",
    "However, being aware of different paradigms and styles gives you access to more techniques that you can use to write, structure and reason about your code."
   ]
  },
  {
   "cell_type": "markdown",
   "metadata": {},
   "source": [
    "### Functions within functions"
   ]
  },
  {
   "cell_type": "markdown",
   "metadata": {},
   "source": [
    "Programs are composed of functions: they take data in (which we call\n",
    "*parameters* or *arguments*) and send data out (through `return` statements).\n",
    "\n",
    "A conceptual trick which is often used by computer scientists to teach the core\n",
    "idea of functional programming is this: to write a program,\n",
    "in theory, you only ever need functions with **one** argument, even when you think you need two or more. Why?\n",
    "\n",
    "Let's define a program to add two numbers:\n",
    "\n",
    "\n"
   ]
  },
  {
   "cell_type": "code",
   "execution_count": null,
   "metadata": {},
   "outputs": [],
   "source": [
    "def add(a, b):\n",
    "    return a + b\n",
    "\n",
    "add(5, 6)"
   ]
  },
  {
   "cell_type": "markdown",
   "metadata": {},
   "source": [
    "\n",
    "\n",
    "How could we do this, in a fictional version of Python which only defined functions of one argument?\n",
    "In order to understand this, we'll have to understand several of the concepts\n",
    "of functional programming. Let's start with a program which just adds five to\n",
    "something:\n",
    "\n",
    "\n"
   ]
  },
  {
   "cell_type": "code",
   "execution_count": null,
   "metadata": {},
   "outputs": [],
   "source": [
    "def add_five(a):\n",
    "    return a + 5\n",
    "\n",
    "add_five(6)"
   ]
  },
  {
   "cell_type": "markdown",
   "metadata": {},
   "source": [
    "\n",
    "\n",
    "OK, we could define lots of these, one for each number we want to add. But that\n",
    "would be infinitely repetitive. So, let's try to metaprogram that: we want a\n",
    "function which returns these add_N() functions.\n",
    "\n",
    "Let's start with the easy case: a function which returns a function which adds 5 to something:\n",
    "\n",
    "\n"
   ]
  },
  {
   "cell_type": "code",
   "execution_count": null,
   "metadata": {},
   "outputs": [],
   "source": [
    "def generate_five_adder():\n",
    "    def _five_adder(a):\n",
    "        return a + 5\n",
    "    return _five_adder\n",
    "\n",
    "coolfunction = generate_five_adder()\n",
    "coolfunction(7)"
   ]
  },
  {
   "cell_type": "markdown",
   "metadata": {},
   "source": [
    "\n",
    "\n",
    "OK, so what happened there? Well, we defined a function **inside** the other function. We can always do that:\n",
    "\n",
    "\n"
   ]
  },
  {
   "cell_type": "code",
   "execution_count": null,
   "metadata": {},
   "outputs": [],
   "source": [
    "def thirty_function():\n",
    "    def times_three(a):\n",
    "        return a * 3\n",
    "    def add_seven(a):\n",
    "        return a + 7\n",
    "    return times_three(add_seven(3))\n",
    "\n",
    "thirty_function()"
   ]
  },
  {
   "cell_type": "markdown",
   "metadata": {},
   "source": [
    "\n",
    "\n",
    "When we do this, the functions enclosed inside the outer function are **local** functions, and can't be seen outside:\n",
    "\n",
    "\n"
   ]
  },
  {
   "cell_type": "code",
   "execution_count": null,
   "metadata": {},
   "outputs": [],
   "source": [
    "add_seven"
   ]
  },
  {
   "cell_type": "markdown",
   "metadata": {},
   "source": [
    "\n",
    "\n",
    "There's not really much of a difference between functions and other variables\n",
    "in python. A function is just a variable which can have () put after it to call\n",
    "the code!\n",
    "\n",
    "\n"
   ]
  },
  {
   "cell_type": "code",
   "execution_count": null,
   "metadata": {},
   "outputs": [],
   "source": [
    "print(thirty_function)"
   ]
  },
  {
   "cell_type": "code",
   "execution_count": null,
   "metadata": {},
   "outputs": [],
   "source": [
    "x = [thirty_function, add_five, add]"
   ]
  },
  {
   "cell_type": "code",
   "execution_count": null,
   "metadata": {},
   "outputs": [],
   "source": [
    "for fun in x:\n",
    "    print(fun)"
   ]
  },
  {
   "cell_type": "markdown",
   "metadata": {},
   "source": [
    "\n",
    "\n",
    "And we know that one of the things we can do with a variable is `return` it. So we can return a function, and then call it outside:\n",
    "\n",
    "\n"
   ]
  },
  {
   "cell_type": "code",
   "execution_count": null,
   "metadata": {},
   "outputs": [],
   "source": [
    "def deferred_greeting():\n",
    "    def greet():\n",
    "        print(\"Hello\")\n",
    "    return greet\n",
    "\n",
    "friendlyfunction = deferred_greeting()"
   ]
  },
  {
   "cell_type": "code",
   "execution_count": null,
   "metadata": {},
   "outputs": [],
   "source": [
    "# Do something else\n",
    "print(\"Just passing the time...\")"
   ]
  },
  {
   "cell_type": "code",
   "execution_count": null,
   "metadata": {},
   "outputs": [],
   "source": [
    "# OK, Go!\n",
    "friendlyfunction()"
   ]
  },
  {
   "cell_type": "markdown",
   "metadata": {},
   "source": [
    "\n",
    "\n",
    "\n",
    "So now, to finish this, we just need to return a function to add an arbitrary amount:\n",
    "\n",
    "\n"
   ]
  },
  {
   "cell_type": "markdown",
   "metadata": {},
   "source": [
    "<div id=\"generate_adder\"></div>"
   ]
  },
  {
   "cell_type": "code",
   "execution_count": null,
   "metadata": {},
   "outputs": [],
   "source": [
    "def generate_adder(increment):\n",
    "    def _adder(a):\n",
    "        return a + increment\n",
    "    return _adder\n",
    "\n",
    "add_3 = generate_adder(3)"
   ]
  },
  {
   "cell_type": "code",
   "execution_count": null,
   "metadata": {},
   "outputs": [],
   "source": [
    "add_3(9)"
   ]
  },
  {
   "cell_type": "markdown",
   "metadata": {},
   "source": [
    "\n",
    "\n",
    "We can make this even prettier: let's make another variable pointing to our define_adder() function:\n",
    "\n",
    "\n"
   ]
  },
  {
   "cell_type": "code",
   "execution_count": null,
   "metadata": {},
   "outputs": [],
   "source": [
    "add = generate_adder"
   ]
  },
  {
   "cell_type": "markdown",
   "metadata": {},
   "source": [
    "\n",
    "\n",
    "And now we can do the real magic:\n",
    "\n",
    "\n"
   ]
  },
  {
   "cell_type": "code",
   "execution_count": null,
   "metadata": {},
   "outputs": [],
   "source": [
    "add(8)(5)"
   ]
  },
  {
   "cell_type": "markdown",
   "metadata": {},
   "source": [
    "In summary, we have started with a function that takes two arguments (`add(a, b)`) and replaced it with a new function (`add(a)(b)`). This new function takes a single argument, and returns a function that itself takes the second argument.\n",
    "\n",
    "This may seem like an overly complicated process - and, in some cases, it is! However, this pattern of functions that return functions (or even take them as arguments!) can be very useful. In fact, it is the basis of decorators, a Python feature that we will discuss more [in this chapter](./025Iterators.html#Decorators) [[notebook](./025Iterators.ipynb#Decorators)]."
   ]
  },
  {
   "cell_type": "markdown",
   "metadata": {},
   "source": [
    "### Closures"
   ]
  },
  {
   "cell_type": "markdown",
   "metadata": {},
   "source": [
    "You may have noticed something a bit weird:\n",
    "\n",
    "In the definition of [`generate_adder`](#generate_adder), `increment` is a local variable. It should have gone out of scope and died at the end of the definition. How can the amount the returned adder function is adding still be kept?\n",
    "\n",
    "This is called a **closure**. In Python, whenever a function definition references a variable in the surrounding scope, it is preserved within the function definition.\n",
    "\n",
    "You can close over global module variables as well:\n",
    "\n",
    "\n"
   ]
  },
  {
   "cell_type": "code",
   "execution_count": null,
   "metadata": {},
   "outputs": [],
   "source": [
    "name = \"Eric\"\n",
    "\n",
    "def greet():\n",
    "    print(\"Hello, \", name)\n",
    "\n",
    "greet()"
   ]
  },
  {
   "cell_type": "markdown",
   "metadata": {},
   "source": [
    "\n",
    "\n",
    "And note that the closure stores a reference to the variable in the surrounding scope: (\"Late Binding\")\n",
    "\n",
    "\n"
   ]
  },
  {
   "cell_type": "code",
   "execution_count": null,
   "metadata": {},
   "outputs": [],
   "source": [
    "name = \"John\"\n",
    "\n",
    "greet()"
   ]
  },
  {
   "cell_type": "markdown",
   "metadata": {},
   "source": [
    "### Map and Reduce"
   ]
  },
  {
   "cell_type": "markdown",
   "metadata": {},
   "source": [
    "We often want to apply a function to each variable in an array, to return a new array. We can do this with a list comprehension:\n",
    "\n",
    "\n"
   ]
  },
  {
   "cell_type": "code",
   "execution_count": null,
   "metadata": {},
   "outputs": [],
   "source": [
    "numbers = range(10)\n",
    "\n",
    "[add_five(i) for i in numbers]"
   ]
  },
  {
   "cell_type": "markdown",
   "metadata": {},
   "source": [
    "\n",
    "\n",
    "But this is sufficiently common that there's a quick built-in:\n",
    "\n",
    "\n"
   ]
  },
  {
   "cell_type": "code",
   "execution_count": null,
   "metadata": {},
   "outputs": [],
   "source": [
    "list(map(add_five, numbers))"
   ]
  },
  {
   "cell_type": "markdown",
   "metadata": {},
   "source": [
    "\n",
    "\n",
    "This **map** operation is really important conceptually when understanding\n",
    "efficient parallel programming: different computers can apply the *mapped*\n",
    "function to their input at the same time. We call this Single Program, Multiple\n",
    "Data (SPMD). **map** is half of the [**map-reduce**](https://en.wikipedia.org/wiki/MapReduce) functional programming\n",
    "paradigm which is key to the efficient operation of much of today's \"data\n",
    "science\" explosion. \n",
    "\n",
    "Let's continue our functional programming mind-stretch by looking at **reduce** operations.\n",
    "\n",
    "We very often want to loop with some kind of accumulator (an intermediate result that we update), such as when finding a mean:\n",
    "\n",
    "\n"
   ]
  },
  {
   "cell_type": "code",
   "execution_count": null,
   "metadata": {},
   "outputs": [],
   "source": [
    "def summer(data):\n",
    "    total = 0.0\n",
    "\n",
    "    for x in data:\n",
    "        total += x\n",
    "\n",
    "    return total"
   ]
  },
  {
   "cell_type": "code",
   "execution_count": null,
   "metadata": {},
   "outputs": [],
   "source": [
    "summer(range(10))"
   ]
  },
  {
   "cell_type": "markdown",
   "metadata": {},
   "source": [
    " or finding a maximum:"
   ]
  },
  {
   "cell_type": "code",
   "execution_count": null,
   "metadata": {},
   "outputs": [],
   "source": [
    "import sys\n",
    "\n",
    "def my_max(data):\n",
    "    # Start with the smallest possible number\n",
    "    highest = sys.float_info.min\n",
    "\n",
    "    for x in data:\n",
    "        if x > highest:\n",
    "            highest = x\n",
    "\n",
    "    return highest"
   ]
  },
  {
   "cell_type": "code",
   "execution_count": null,
   "metadata": {},
   "outputs": [],
   "source": [
    "my_max([2, 5, 10, -11, -5])"
   ]
  },
  {
   "cell_type": "markdown",
   "metadata": {},
   "source": [
    "These operations, where we have some variable which is building up a result,\n",
    "and the result is updated with some operation, can be gathered together as a\n",
    "functional program, taking in (as an argument) the operation to be used to combine results:"
   ]
  },
  {
   "cell_type": "code",
   "execution_count": null,
   "metadata": {},
   "outputs": [],
   "source": [
    "def accumulate(initial, operation, data):\n",
    "    accumulator = initial\n",
    "    for x in data:\n",
    "        accumulator = operation(accumulator, x)\n",
    "    return accumulator\n",
    "\n",
    "def my_sum(data):\n",
    "    def _add(a, b):\n",
    "        return a + b\n",
    "    return accumulate(0, _add, data)"
   ]
  },
  {
   "cell_type": "code",
   "execution_count": null,
   "metadata": {},
   "outputs": [],
   "source": [
    "my_sum(range(5))"
   ]
  },
  {
   "cell_type": "code",
   "execution_count": null,
   "metadata": {},
   "outputs": [],
   "source": [
    "def bigger(a, b):\n",
    "    if b > a:\n",
    "        return b\n",
    "    return a\n",
    "\n",
    "def my_max(data):\n",
    "    return accumulate(sys.float_info.min, bigger, data)\n",
    "\n",
    "my_max([2, 5, 10, -11, -5])"
   ]
  },
  {
   "cell_type": "markdown",
   "metadata": {},
   "source": [
    "Anyway, this accumulate-under-an-operation process is so fundamental to\n",
    "computing that it's usually in standard libraries for languages which allow\n",
    "functional programming:"
   ]
  },
  {
   "cell_type": "code",
   "execution_count": null,
   "metadata": {},
   "outputs": [],
   "source": [
    "from functools import reduce\n",
    "\n",
    "def my_max(data):\n",
    "    return reduce(bigger, data, sys.float_info.min)\n",
    "\n",
    "my_max([2, 5, 10, -11, -5])"
   ]
  },
  {
   "cell_type": "markdown",
   "metadata": {},
   "source": [
    "#### Efficient map-reduce\n",
    "\n",
    "Now, because these operations, `bigger` and `_add`, are such that e.g. (a+b)+c = a+(b+c) , i.e. they are **associative**, we could apply our accumulation\n",
    "to the left half and the right half of the array, each on a different computer, and then combine the two halves:\n",
    "\n",
    "1 + 2 + 3 + 4 = (1 + 2) + (3 + 4)\n",
    "\n",
    "Indeed, with a bigger array, we can divide-and-conquer more times:\n",
    "\n",
    "1 + 2 + 3 + 4 + 5 + 6 + 7 + 8 = ((1 + 2) + (3 + 4)) + ((5 + 6) + (7 + 8))\n",
    "\n",
    "So with enough parallel computers, we could do this operation on eight numbers\n",
    "in three steps: first, we use four computers to do one  each of the pairwise\n",
    "adds.\n",
    "\n",
    "Then, we use two computers to add the four totals.\n",
    "\n",
    "Then, we use one of the computers to do the final add of the two last numbers.\n",
    "\n",
    "You might be able to do the maths to see that with an N element list, the\n",
    "number of such steps is proportional to the logarithm of N.\n",
    "\n",
    "We say that with enough computers, reduction operations are O(ln N)\n",
    "\n",
    "This course isn't an introduction to algorithms, but we'll talk more about this\n",
    "O() notation when we think about programming for performance.\n",
    "\n"
   ]
  },
  {
   "cell_type": "markdown",
   "metadata": {},
   "source": [
    "### Lambda Functions"
   ]
  },
  {
   "cell_type": "markdown",
   "metadata": {},
   "source": [
    "\n",
    "\n",
    "When doing functional programming, we often want to be able to define a function on the fly:\n",
    "\n",
    "\n"
   ]
  },
  {
   "cell_type": "code",
   "execution_count": null,
   "metadata": {},
   "outputs": [],
   "source": [
    "def most_Cs_in_any_sequence(sequences):\n",
    "\n",
    "    def count_Cs(sequence):\n",
    "        return sequence.count('C')\n",
    "\n",
    "    counts = map(count_Cs, sequences)\n",
    "    return max(counts)\n",
    "\n",
    "\n",
    "def most_Gs_in_any_sequence(sequences):\n",
    "    return max(map(lambda sequence: sequence.count('G'), sequences))\n",
    "\n",
    "\n",
    "data = [\n",
    "    \"CGTA\",\n",
    "    \"CGGGTAAACG\",\n",
    "    \"GATTACA\"\n",
    "]\n",
    "\n",
    "most_Gs_in_any_sequence(data)"
   ]
  },
  {
   "cell_type": "markdown",
   "metadata": {},
   "source": [
    "\n",
    "\n",
    "The syntax here means that these two definitions are identical:\n",
    "\n",
    "\n"
   ]
  },
  {
   "cell_type": "code",
   "execution_count": null,
   "metadata": {},
   "outputs": [],
   "source": [
    "func_name = lambda a, b, c: a + b + c\n",
    "\n",
    "def func_name(a, b, c):\n",
    "    return a + b + c"
   ]
  },
  {
   "cell_type": "markdown",
   "metadata": {},
   "source": [
    "\n",
    "\n",
    "\n",
    "The **lambda** keyword defines an \"anonymous\" function.\n",
    "\n",
    "\n"
   ]
  },
  {
   "cell_type": "code",
   "execution_count": null,
   "metadata": {},
   "outputs": [],
   "source": [
    "def most_of_given_base_in_any_sequence(sequences, base):\n",
    "    return max(map(lambda sequence: sequence.count(base), sequences))\n",
    "\n",
    "most_of_given_base_in_any_sequence(data, 'A')"
   ]
  },
  {
   "cell_type": "markdown",
   "metadata": {},
   "source": [
    "\n",
    "\n",
    "The above fragment defined a lambda function as a **closure** over `base`. If you understood that, you've got it! \n",
    "\n",
    "\n"
   ]
  },
  {
   "cell_type": "markdown",
   "metadata": {},
   "source": [
    "To double all elements in an array:"
   ]
  },
  {
   "cell_type": "code",
   "execution_count": null,
   "metadata": {},
   "outputs": [],
   "source": [
    "data = range(10)\n",
    "list(map(lambda x: 2*x, data))"
   ]
  },
  {
   "cell_type": "code",
   "execution_count": null,
   "metadata": {},
   "outputs": [],
   "source": [
    "[2*x for x in data]"
   ]
  },
  {
   "cell_type": "markdown",
   "metadata": {},
   "source": [
    "Similarly, to find the maximum value in a sequence:"
   ]
  },
  {
   "cell_type": "code",
   "execution_count": null,
   "metadata": {},
   "outputs": [],
   "source": [
    "def my_max(data): \n",
    "    return reduce(lambda a, b: a if a > b else b, data, sys.float_info.min)\n",
    "\n",
    "my_max([2, 5, 10, -11, -5])"
   ]
  },
  {
   "cell_type": "markdown",
   "metadata": {},
   "source": [
    "### Using functional programming for numerical methods"
   ]
  },
  {
   "cell_type": "markdown",
   "metadata": {},
   "source": [
    "\n",
    "Probably the most common use in research computing for functional programming\n",
    "is the application of a numerical method to a function.\n",
    "\n",
    "Consider this example which uses the [`newton` function from SciPy](https://docs.scipy.org/doc/scipy/reference/generated/scipy.optimize.newton.html), a root-finding function implementing the [Newton-Raphson method](http://mathworld.wolfram.com/NewtonsMethod.html). The arguments we pass to `newton` are the function whose roots we want to find, and a starting point to search from.\n",
    "\n",
    "We will be using this to find the roots of the function $f(x) = x^2 - x$."
   ]
  },
  {
   "cell_type": "code",
   "execution_count": null,
   "metadata": {},
   "outputs": [],
   "source": [
    "%matplotlib inline"
   ]
  },
  {
   "cell_type": "code",
   "execution_count": null,
   "metadata": {},
   "outputs": [],
   "source": [
    "from scipy.optimize import newton\n",
    "from numpy import linspace, zeros\n",
    "from matplotlib import pyplot as plt\n",
    "\n",
    "solve_me = lambda x: x**2 - x\n",
    "\n",
    "for x0 in [2, 0.2]:\n",
    "    answer = newton(solve_me, x0)\n",
    "    print(\"Starting from {}, the root I found is {}\".format(x0, answer))\n",
    "\n",
    "xs = linspace(-1, 2, 50)\n",
    "solved = [xs, list(map(solve_me, xs)), xs, zeros(len(xs))]\n",
    "\n",
    "plt.plot(*solved)"
   ]
  },
  {
   "cell_type": "markdown",
   "metadata": {},
   "source": [
    "\n",
    "\n",
    "\n",
    "Sometimes such tools return another function, for example the derivative of their input function. This is what a naive implementation of that could look like:\n",
    "\n",
    "\n"
   ]
  },
  {
   "cell_type": "code",
   "execution_count": null,
   "metadata": {},
   "outputs": [],
   "source": [
    "def derivative_simple(func, eps, at):\n",
    "    return (func(at + eps) - func(at)) / eps"
   ]
  },
  {
   "cell_type": "code",
   "execution_count": null,
   "metadata": {},
   "outputs": [],
   "source": [
    "def derivative(func, eps):\n",
    "\n",
    "    def _func_derived(x):\n",
    "        return (func(x + eps) - func(x)) / eps\n",
    "\n",
    "    return _func_derived\n",
    "\n",
    "straight = derivative(solve_me, 0.01)"
   ]
  },
  {
   "cell_type": "markdown",
   "metadata": {},
   "source": [
    "The derivative of `solve_me` is $f'(x) = 2x - 1$, which represents a straight line.\n",
    "We can verify that our computations are correct, i.e. that the returned function `straight` matches $f'(x)$, by checking the value of `straight` at some $x$:"
   ]
  },
  {
   "cell_type": "code",
   "execution_count": null,
   "metadata": {},
   "outputs": [],
   "source": [
    "straight(3)"
   ]
  },
  {
   "cell_type": "markdown",
   "metadata": {},
   "source": [
    "or by plotting it:"
   ]
  },
  {
   "cell_type": "code",
   "execution_count": null,
   "metadata": {},
   "outputs": [],
   "source": [
    "derived = (\n",
    "    xs, list(map(solve_me, xs)),\n",
    "    xs, list(map(derivative(solve_me, 0.01), xs))\n",
    ")\n",
    "plt.plot(*derived)\n",
    "print(newton(derivative(solve_me, 0.01), 0))"
   ]
  },
  {
   "cell_type": "markdown",
   "metadata": {},
   "source": [
    "Of course, coding your own numerical methods is bad, because the implementations you develop are likely to be less efficient, less accurate and more error-prone than what you can find in existing established libraries.\n",
    "\n",
    "For example, the above definition could be replaced by:"
   ]
  },
  {
   "cell_type": "code",
   "execution_count": null,
   "metadata": {},
   "outputs": [],
   "source": [
    "import scipy.misc\n",
    "\n",
    "def derivative(func):\n",
    "    def _func_derived(x):\n",
    "        return scipy.misc.derivative(func, x)\n",
    "    return _func_derived\n",
    "\n",
    "newton(derivative(solve_me), 0)"
   ]
  },
  {
   "cell_type": "markdown",
   "metadata": {},
   "source": [
    "\n",
    "\n",
    "If you've done a moderate amount of calculus, then you'll find similarities\n",
    "between functional programming in computer science and Functionals in the\n",
    "calculus of variations.\n",
    "\n"
   ]
  }
 ],
 "metadata": {
  "jekyll": {
   "display_name": "Functional Programming"
  },
  "language_info": {
   "codemirror_mode": {
    "name": "ipython",
    "version": 3
   },
   "file_extension": ".py",
   "mimetype": "text/x-python",
   "name": "python",
   "nbconvert_exporter": "python",
   "pygments_lexer": "ipython3",
   "version": "3.6.2"
  }
 },
 "nbformat": 4,
 "nbformat_minor": 1
}
