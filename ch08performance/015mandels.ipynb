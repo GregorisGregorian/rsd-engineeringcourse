{
 "cells": [
  {
   "cell_type": "code",
   "execution_count": null,
   "metadata": {},
   "outputs": [],
   "source": [
    "xmin = -1.5\n",
    "ymin = -1.0\n",
    "xmax = 0.5\n",
    "ymax = 1.0\n",
    "resolution = 300\n",
    "xstep = (xmax - xmin) / resolution\n",
    "ystep = (ymax - ymin) / resolution\n",
    "xs = [(xmin + (xmax - xmin) * i / resolution) for i in range(resolution)]\n",
    "ys = [(ymin + (ymax - ymin) * i / resolution) for i in range(resolution)]"
   ]
  },
  {
   "cell_type": "code",
   "execution_count": null,
   "metadata": {},
   "outputs": [],
   "source": [
    "def mandel1(position, limit=50):\n",
    "    value = position    \n",
    "    while abs(value) < 2:\n",
    "        limit -= 1        \n",
    "        value = value**2 + position        \n",
    "        if limit < 0:\n",
    "            return 0        \n",
    "    return limit"
   ]
  },
  {
   "cell_type": "code",
   "execution_count": null,
   "metadata": {},
   "outputs": [],
   "source": [
    "data1 = [[mandel1(complex(x, y)) for x in xs] for y in ys]"
   ]
  },
  {
   "cell_type": "markdown",
   "metadata": {},
   "source": [
    "## Many Mandelbrots"
   ]
  },
  {
   "cell_type": "markdown",
   "metadata": {},
   "source": [
    "Let's compare our naive python implementation which used a list comprehension, taking 662ms, with the following:"
   ]
  },
  {
   "cell_type": "code",
   "execution_count": null,
   "metadata": {},
   "outputs": [],
   "source": [
    "%%timeit\n",
    "data2 = []\n",
    "for y in ys:\n",
    "    row = []\n",
    "    for x in xs:\n",
    "        row.append(mandel1(complex(x, y)))\n",
    "    data2.append(row)"
   ]
  },
  {
   "cell_type": "code",
   "execution_count": null,
   "metadata": {},
   "outputs": [],
   "source": [
    "data2 = []\n",
    "for y in ys:\n",
    "    row = []\n",
    "    for x in xs:\n",
    "        row.append(mandel1(complex(x, y)))\n",
    "    data2.append(row)"
   ]
  },
  {
   "cell_type": "markdown",
   "metadata": {},
   "source": [
    "Interestingly, not much difference. I would have expected this to be slower, due to the normally high cost of **appending** to data."
   ]
  },
  {
   "cell_type": "code",
   "execution_count": null,
   "metadata": {},
   "outputs": [],
   "source": [
    "from matplotlib import pyplot as plt\n",
    "%matplotlib inline\n",
    "plt.imshow(data2, interpolation='none')"
   ]
  },
  {
   "cell_type": "markdown",
   "metadata": {},
   "source": [
    "We ought to be checking if these results are the same by comparing the values in a test, rather than re-plotting. This is cumbersome in pure Python, but easy with NumPy, so we'll do this later."
   ]
  },
  {
   "cell_type": "markdown",
   "metadata": {},
   "source": [
    "Let's try a pre-allocated data structure:"
   ]
  },
  {
   "cell_type": "code",
   "execution_count": null,
   "metadata": {},
   "outputs": [],
   "source": [
    "data3 = [[0 for i in range(resolution)] for j in range(resolution)]"
   ]
  },
  {
   "cell_type": "code",
   "execution_count": null,
   "metadata": {},
   "outputs": [],
   "source": [
    "%%timeit\n",
    "for j, y in enumerate(ys):\n",
    "    for i, x in enumerate(xs):\n",
    "        data3[j][i] = mandel1(complex(x, y))"
   ]
  },
  {
   "cell_type": "code",
   "execution_count": null,
   "metadata": {},
   "outputs": [],
   "source": [
    "for j, y in enumerate(ys):\n",
    "    for i, x in enumerate(xs):\n",
    "        data3[j][i] = mandel1(complex(x, y))"
   ]
  },
  {
   "cell_type": "code",
   "execution_count": null,
   "metadata": {},
   "outputs": [],
   "source": [
    "plt.imshow(data3, interpolation='none')"
   ]
  },
  {
   "cell_type": "markdown",
   "metadata": {},
   "source": [
    "Nope, no gain there. "
   ]
  },
  {
   "cell_type": "markdown",
   "metadata": {},
   "source": [
    "Let's try using functional programming approaches:"
   ]
  },
  {
   "cell_type": "code",
   "execution_count": null,
   "metadata": {},
   "outputs": [],
   "source": [
    "%%timeit\n",
    "data4 = []\n",
    "for y in ys:\n",
    "    bind_mandel = lambda x: mandel1(complex(x, y))\n",
    "    data4.append(list(map(bind_mandel, xs)))"
   ]
  },
  {
   "cell_type": "code",
   "execution_count": null,
   "metadata": {},
   "outputs": [],
   "source": [
    "data4 = []\n",
    "for y in ys:\n",
    "    bind_mandel = lambda x: mandel1(complex(x, y))\n",
    "    data4.append(list(map(bind_mandel, xs)))"
   ]
  },
  {
   "cell_type": "code",
   "execution_count": null,
   "metadata": {},
   "outputs": [],
   "source": [
    "plt.imshow(data4, interpolation='none')"
   ]
  },
  {
   "cell_type": "markdown",
   "metadata": {},
   "source": [
    "That was a tiny bit slower."
   ]
  },
  {
   "cell_type": "markdown",
   "metadata": {},
   "source": [
    "So, what do we learn from this? Our mental image of what code should be faster or slower is often wrong, or doesn't make much difference. The only way to really improve code performance is empirically, through measurements."
   ]
  }
 ],
 "metadata": {
  "jekyll": {
   "display_name": "Faster Mandelbrots?"
  },
  "language_info": {
   "codemirror_mode": {
    "name": "ipython",
    "version": 3
   },
   "file_extension": ".py",
   "mimetype": "text/x-python",
   "name": "python",
   "nbconvert_exporter": "python",
   "pygments_lexer": "ipython3",
   "version": "3.7.0"
  }
 },
 "nbformat": 4,
 "nbformat_minor": 0
}
